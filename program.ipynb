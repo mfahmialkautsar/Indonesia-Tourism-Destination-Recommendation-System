{
 "cells": [
  {
   "cell_type": "markdown",
   "metadata": {},
   "source": [
    "# Recommendation System"
   ]
  },
  {
   "cell_type": "markdown",
   "metadata": {},
   "source": [
    "# 1. Data Loading"
   ]
  },
  {
   "cell_type": "markdown",
   "metadata": {},
   "source": [
    "## 1.1. Kaggle Credentials"
   ]
  },
  {
   "cell_type": "markdown",
   "metadata": {},
   "source": [
    "Kaggle Username dan Kaggle Key diperlukan untuk mengakses dataset pada Kaggle. Kedua variabel tersebut kemudian disimpan dalam environment variable dengan bantuan library `os`."
   ]
  },
  {
   "cell_type": "code",
   "execution_count": 1,
   "metadata": {},
   "outputs": [],
   "source": [
    "import os\n",
    "os.environ['KAGGLE_USERNAME'] = 'fahmial'\n",
    "os.environ['KAGGLE_KEY'] = 'ab0aae42de8bee6b0bd59de20414bd9b'\n"
   ]
  },
  {
   "cell_type": "markdown",
   "metadata": {},
   "source": [
    "## 1.2. Download the Dataset"
   ]
  },
  {
   "cell_type": "markdown",
   "metadata": {},
   "source": [
    "Dataset yang digunakan adalah [Indonesia Tourism Destination](https://www.kaggle.com/datasets/aprabowo/indonesia-tourism-destination) dengan `tourism_with_id.csv` dan `tourism_rating.csv` sebagai dataset."
   ]
  },
  {
   "cell_type": "code",
   "execution_count": 2,
   "metadata": {},
   "outputs": [
    {
     "name": "stdout",
     "output_type": "stream",
     "text": [
      "tourism_with_id.csv: Skipping, found more recently modified local copy (use --force to force download)\n",
      "tourism_rating.csv: Skipping, found more recently modified local copy (use --force to force download)\n"
     ]
    }
   ],
   "source": [
    "# Download tourism_with_id.csv dan tourism_rating.csv ke local directory\n",
    "!kaggle datasets download -d aprabowo/indonesia-tourism-destination -f tourism_with_id.csv -p .\n",
    "!kaggle datasets download -d aprabowo/indonesia-tourism-destination -f tourism_rating.csv -p ."
   ]
  },
  {
   "cell_type": "markdown",
   "metadata": {},
   "source": [
    "# 2. Data Understanding"
   ]
  },
  {
   "cell_type": "markdown",
   "metadata": {},
   "source": [
    "## 2.1. Jumlah Data"
   ]
  },
  {
   "cell_type": "markdown",
   "metadata": {},
   "source": [
    "Menampilkan masing-masing dataset yaitu `tourism_with_id.csv` dan `tourism_rating.csv` menggunakan library pandas dari format .csv menjadi dataframe."
   ]
  },
  {
   "cell_type": "code",
   "execution_count": 3,
   "metadata": {},
   "outputs": [
    {
     "name": "stdout",
     "output_type": "stream",
     "text": [
      "Jumlah places:  437\n",
      "Jumlah ratings:  10000\n"
     ]
    }
   ],
   "source": [
    "import pandas as pd\n",
    "\n",
    "places = pd.read_csv('tourism_with_id.csv')\n",
    "ratings = pd.read_csv('tourism_rating.csv')\n",
    "\n",
    "print('Jumlah places: ', len(places.Place_Id.unique()))\n",
    "print('Jumlah ratings: ', len(ratings.Place_Ratings))\n"
   ]
  },
  {
   "cell_type": "markdown",
   "metadata": {},
   "source": [
    "## 2.2. Univariate Exploratory Data Analysis (EDA)"
   ]
  },
  {
   "cell_type": "markdown",
   "metadata": {},
   "source": [
    "Di sini akan dilakukan proses investigasi awal pada data untuk menganalisis karakteristik, menemukan pola, anomali, dan memeriksa asumsi pada data."
   ]
  },
  {
   "cell_type": "markdown",
   "metadata": {},
   "source": [
    "### 2.2.1. Dataset Tourism Destinations (Places)"
   ]
  },
  {
   "cell_type": "markdown",
   "metadata": {},
   "source": [
    "Pengecekan informasi variabel dari dataset places berupa jumlah kolom, nama kolom, jumlah data per kolom dan tipe datanya."
   ]
  },
  {
   "cell_type": "code",
   "execution_count": 4,
   "metadata": {},
   "outputs": [
    {
     "name": "stdout",
     "output_type": "stream",
     "text": [
      "<class 'pandas.core.frame.DataFrame'>\n",
      "RangeIndex: 437 entries, 0 to 436\n",
      "Data columns (total 13 columns):\n",
      " #   Column        Non-Null Count  Dtype  \n",
      "---  ------        --------------  -----  \n",
      " 0   Place_Id      437 non-null    int64  \n",
      " 1   Place_Name    437 non-null    object \n",
      " 2   Description   437 non-null    object \n",
      " 3   Category      437 non-null    object \n",
      " 4   City          437 non-null    object \n",
      " 5   Price         437 non-null    int64  \n",
      " 6   Rating        437 non-null    float64\n",
      " 7   Time_Minutes  205 non-null    float64\n",
      " 8   Coordinate    437 non-null    object \n",
      " 9   Lat           437 non-null    float64\n",
      " 10  Long          437 non-null    float64\n",
      " 11  Unnamed: 11   0 non-null      float64\n",
      " 12  Unnamed: 12   437 non-null    int64  \n",
      "dtypes: float64(5), int64(3), object(5)\n",
      "memory usage: 44.5+ KB\n"
     ]
    }
   ],
   "source": [
    "places.info()"
   ]
  },
  {
   "cell_type": "markdown",
   "metadata": {},
   "source": [
    "File ini terdiri dari 10 kolom sebagai berikut:\n",
    "\n",
    "- Place_Id: kolom yang menunjukkan id dari setiap tempat wisata.\n",
    "- Place_Name: kolom yang menunjukkan nama dari setiap tempat wisata.\n",
    "- Description: kolom yang menunjukkan deskripsi dari setiap tempat wisata.\n",
    "- Category: kolom yang menunjukkan kategori dari setiap tempat wisata.\n",
    "- City: kolom yang menunjukkan kota dimana tempat wisata tersebut berada.\n",
    "- Price: kolom yang menunjukkan harga tiket masuk ke tempat wisata tersebut.\n",
    "- Rating: kolom yang menunjukkan rating dari setiap tempat wisata.\n",
    "- Time_Minutes: kolom yang menunjukkan waktu yang diperlukan untuk mengunjungi tempat wisata tersebut.\n",
    "- Coordinate: kolom yang menunjukkan koordinat dari setiap tempat wisata.\n",
    "- Lat: kolom yang menunjukkan latitude dari setiap tempat wisata.\n",
    "- Long: kolom yang menunjukkan longitude dari setiap tempat wisata."
   ]
  },
  {
   "cell_type": "markdown",
   "metadata": {},
   "source": [
    "Menampilkan sample dataset places."
   ]
  },
  {
   "cell_type": "code",
   "execution_count": 5,
   "metadata": {},
   "outputs": [
    {
     "data": {
      "text/html": [
       "<div>\n",
       "<style scoped>\n",
       "    .dataframe tbody tr th:only-of-type {\n",
       "        vertical-align: middle;\n",
       "    }\n",
       "\n",
       "    .dataframe tbody tr th {\n",
       "        vertical-align: top;\n",
       "    }\n",
       "\n",
       "    .dataframe thead th {\n",
       "        text-align: right;\n",
       "    }\n",
       "</style>\n",
       "<table border=\"1\" class=\"dataframe\">\n",
       "  <thead>\n",
       "    <tr style=\"text-align: right;\">\n",
       "      <th></th>\n",
       "      <th>Place_Id</th>\n",
       "      <th>Place_Name</th>\n",
       "      <th>Description</th>\n",
       "      <th>Category</th>\n",
       "      <th>City</th>\n",
       "      <th>Price</th>\n",
       "      <th>Rating</th>\n",
       "      <th>Time_Minutes</th>\n",
       "      <th>Coordinate</th>\n",
       "      <th>Lat</th>\n",
       "      <th>Long</th>\n",
       "      <th>Unnamed: 11</th>\n",
       "      <th>Unnamed: 12</th>\n",
       "    </tr>\n",
       "  </thead>\n",
       "  <tbody>\n",
       "    <tr>\n",
       "      <th>0</th>\n",
       "      <td>1</td>\n",
       "      <td>Monumen Nasional</td>\n",
       "      <td>Monumen Nasional atau yang populer disingkat d...</td>\n",
       "      <td>Budaya</td>\n",
       "      <td>Jakarta</td>\n",
       "      <td>20000</td>\n",
       "      <td>4.6</td>\n",
       "      <td>15.0</td>\n",
       "      <td>{'lat': -6.1753924, 'lng': 106.8271528}</td>\n",
       "      <td>-6.175392</td>\n",
       "      <td>106.827153</td>\n",
       "      <td>NaN</td>\n",
       "      <td>1</td>\n",
       "    </tr>\n",
       "    <tr>\n",
       "      <th>1</th>\n",
       "      <td>2</td>\n",
       "      <td>Kota Tua</td>\n",
       "      <td>Kota tua di Jakarta, yang juga bernama Kota Tu...</td>\n",
       "      <td>Budaya</td>\n",
       "      <td>Jakarta</td>\n",
       "      <td>0</td>\n",
       "      <td>4.6</td>\n",
       "      <td>90.0</td>\n",
       "      <td>{'lat': -6.137644799999999, 'lng': 106.8171245}</td>\n",
       "      <td>-6.137645</td>\n",
       "      <td>106.817125</td>\n",
       "      <td>NaN</td>\n",
       "      <td>2</td>\n",
       "    </tr>\n",
       "    <tr>\n",
       "      <th>2</th>\n",
       "      <td>3</td>\n",
       "      <td>Dunia Fantasi</td>\n",
       "      <td>Dunia Fantasi atau disebut juga Dufan adalah t...</td>\n",
       "      <td>Taman Hiburan</td>\n",
       "      <td>Jakarta</td>\n",
       "      <td>270000</td>\n",
       "      <td>4.6</td>\n",
       "      <td>360.0</td>\n",
       "      <td>{'lat': -6.125312399999999, 'lng': 106.8335377}</td>\n",
       "      <td>-6.125312</td>\n",
       "      <td>106.833538</td>\n",
       "      <td>NaN</td>\n",
       "      <td>3</td>\n",
       "    </tr>\n",
       "    <tr>\n",
       "      <th>3</th>\n",
       "      <td>4</td>\n",
       "      <td>Taman Mini Indonesia Indah (TMII)</td>\n",
       "      <td>Taman Mini Indonesia Indah merupakan suatu kaw...</td>\n",
       "      <td>Taman Hiburan</td>\n",
       "      <td>Jakarta</td>\n",
       "      <td>10000</td>\n",
       "      <td>4.5</td>\n",
       "      <td>NaN</td>\n",
       "      <td>{'lat': -6.302445899999999, 'lng': 106.8951559}</td>\n",
       "      <td>-6.302446</td>\n",
       "      <td>106.895156</td>\n",
       "      <td>NaN</td>\n",
       "      <td>4</td>\n",
       "    </tr>\n",
       "    <tr>\n",
       "      <th>4</th>\n",
       "      <td>5</td>\n",
       "      <td>Atlantis Water Adventure</td>\n",
       "      <td>Atlantis Water Adventure atau dikenal dengan A...</td>\n",
       "      <td>Taman Hiburan</td>\n",
       "      <td>Jakarta</td>\n",
       "      <td>94000</td>\n",
       "      <td>4.5</td>\n",
       "      <td>60.0</td>\n",
       "      <td>{'lat': -6.12419, 'lng': 106.839134}</td>\n",
       "      <td>-6.124190</td>\n",
       "      <td>106.839134</td>\n",
       "      <td>NaN</td>\n",
       "      <td>5</td>\n",
       "    </tr>\n",
       "  </tbody>\n",
       "</table>\n",
       "</div>"
      ],
      "text/plain": [
       "   Place_Id                         Place_Name  \\\n",
       "0         1                   Monumen Nasional   \n",
       "1         2                           Kota Tua   \n",
       "2         3                      Dunia Fantasi   \n",
       "3         4  Taman Mini Indonesia Indah (TMII)   \n",
       "4         5           Atlantis Water Adventure   \n",
       "\n",
       "                                         Description       Category     City  \\\n",
       "0  Monumen Nasional atau yang populer disingkat d...         Budaya  Jakarta   \n",
       "1  Kota tua di Jakarta, yang juga bernama Kota Tu...         Budaya  Jakarta   \n",
       "2  Dunia Fantasi atau disebut juga Dufan adalah t...  Taman Hiburan  Jakarta   \n",
       "3  Taman Mini Indonesia Indah merupakan suatu kaw...  Taman Hiburan  Jakarta   \n",
       "4  Atlantis Water Adventure atau dikenal dengan A...  Taman Hiburan  Jakarta   \n",
       "\n",
       "    Price  Rating  Time_Minutes  \\\n",
       "0   20000     4.6          15.0   \n",
       "1       0     4.6          90.0   \n",
       "2  270000     4.6         360.0   \n",
       "3   10000     4.5           NaN   \n",
       "4   94000     4.5          60.0   \n",
       "\n",
       "                                        Coordinate       Lat        Long  \\\n",
       "0          {'lat': -6.1753924, 'lng': 106.8271528} -6.175392  106.827153   \n",
       "1  {'lat': -6.137644799999999, 'lng': 106.8171245} -6.137645  106.817125   \n",
       "2  {'lat': -6.125312399999999, 'lng': 106.8335377} -6.125312  106.833538   \n",
       "3  {'lat': -6.302445899999999, 'lng': 106.8951559} -6.302446  106.895156   \n",
       "4             {'lat': -6.12419, 'lng': 106.839134} -6.124190  106.839134   \n",
       "\n",
       "   Unnamed: 11  Unnamed: 12  \n",
       "0          NaN            1  \n",
       "1          NaN            2  \n",
       "2          NaN            3  \n",
       "3          NaN            4  \n",
       "4          NaN            5  "
      ]
     },
     "execution_count": 5,
     "metadata": {},
     "output_type": "execute_result"
    }
   ],
   "source": [
    "places.head()\n"
   ]
  },
  {
   "cell_type": "markdown",
   "metadata": {},
   "source": [
    "Melakukan pengecekan deskripsi statistik dataset places dengan fitur describe()."
   ]
  },
  {
   "cell_type": "code",
   "execution_count": 6,
   "metadata": {},
   "outputs": [
    {
     "data": {
      "text/html": [
       "<div>\n",
       "<style scoped>\n",
       "    .dataframe tbody tr th:only-of-type {\n",
       "        vertical-align: middle;\n",
       "    }\n",
       "\n",
       "    .dataframe tbody tr th {\n",
       "        vertical-align: top;\n",
       "    }\n",
       "\n",
       "    .dataframe thead th {\n",
       "        text-align: right;\n",
       "    }\n",
       "</style>\n",
       "<table border=\"1\" class=\"dataframe\">\n",
       "  <thead>\n",
       "    <tr style=\"text-align: right;\">\n",
       "      <th></th>\n",
       "      <th>Place_Id</th>\n",
       "      <th>Price</th>\n",
       "      <th>Rating</th>\n",
       "      <th>Time_Minutes</th>\n",
       "      <th>Lat</th>\n",
       "      <th>Long</th>\n",
       "      <th>Unnamed: 11</th>\n",
       "      <th>Unnamed: 12</th>\n",
       "    </tr>\n",
       "  </thead>\n",
       "  <tbody>\n",
       "    <tr>\n",
       "      <th>count</th>\n",
       "      <td>437.000000</td>\n",
       "      <td>437.000000</td>\n",
       "      <td>437.000000</td>\n",
       "      <td>205.000000</td>\n",
       "      <td>437.000000</td>\n",
       "      <td>437.000000</td>\n",
       "      <td>0.0</td>\n",
       "      <td>437.000000</td>\n",
       "    </tr>\n",
       "    <tr>\n",
       "      <th>mean</th>\n",
       "      <td>219.000000</td>\n",
       "      <td>24652.173913</td>\n",
       "      <td>4.442792</td>\n",
       "      <td>82.609756</td>\n",
       "      <td>-7.095438</td>\n",
       "      <td>109.160142</td>\n",
       "      <td>NaN</td>\n",
       "      <td>219.000000</td>\n",
       "    </tr>\n",
       "    <tr>\n",
       "      <th>std</th>\n",
       "      <td>126.295289</td>\n",
       "      <td>66446.374709</td>\n",
       "      <td>0.208587</td>\n",
       "      <td>52.872339</td>\n",
       "      <td>0.727241</td>\n",
       "      <td>1.962848</td>\n",
       "      <td>NaN</td>\n",
       "      <td>126.295289</td>\n",
       "    </tr>\n",
       "    <tr>\n",
       "      <th>min</th>\n",
       "      <td>1.000000</td>\n",
       "      <td>0.000000</td>\n",
       "      <td>3.400000</td>\n",
       "      <td>10.000000</td>\n",
       "      <td>-8.197894</td>\n",
       "      <td>103.931398</td>\n",
       "      <td>NaN</td>\n",
       "      <td>1.000000</td>\n",
       "    </tr>\n",
       "    <tr>\n",
       "      <th>25%</th>\n",
       "      <td>110.000000</td>\n",
       "      <td>0.000000</td>\n",
       "      <td>4.300000</td>\n",
       "      <td>45.000000</td>\n",
       "      <td>-7.749590</td>\n",
       "      <td>107.578369</td>\n",
       "      <td>NaN</td>\n",
       "      <td>110.000000</td>\n",
       "    </tr>\n",
       "    <tr>\n",
       "      <th>50%</th>\n",
       "      <td>219.000000</td>\n",
       "      <td>5000.000000</td>\n",
       "      <td>4.500000</td>\n",
       "      <td>60.000000</td>\n",
       "      <td>-7.020524</td>\n",
       "      <td>110.237468</td>\n",
       "      <td>NaN</td>\n",
       "      <td>219.000000</td>\n",
       "    </tr>\n",
       "    <tr>\n",
       "      <th>75%</th>\n",
       "      <td>328.000000</td>\n",
       "      <td>20000.000000</td>\n",
       "      <td>4.600000</td>\n",
       "      <td>120.000000</td>\n",
       "      <td>-6.829411</td>\n",
       "      <td>110.431869</td>\n",
       "      <td>NaN</td>\n",
       "      <td>328.000000</td>\n",
       "    </tr>\n",
       "    <tr>\n",
       "      <th>max</th>\n",
       "      <td>437.000000</td>\n",
       "      <td>900000.000000</td>\n",
       "      <td>5.000000</td>\n",
       "      <td>360.000000</td>\n",
       "      <td>1.078880</td>\n",
       "      <td>112.821662</td>\n",
       "      <td>NaN</td>\n",
       "      <td>437.000000</td>\n",
       "    </tr>\n",
       "  </tbody>\n",
       "</table>\n",
       "</div>"
      ],
      "text/plain": [
       "         Place_Id          Price      Rating  Time_Minutes         Lat  \\\n",
       "count  437.000000     437.000000  437.000000    205.000000  437.000000   \n",
       "mean   219.000000   24652.173913    4.442792     82.609756   -7.095438   \n",
       "std    126.295289   66446.374709    0.208587     52.872339    0.727241   \n",
       "min      1.000000       0.000000    3.400000     10.000000   -8.197894   \n",
       "25%    110.000000       0.000000    4.300000     45.000000   -7.749590   \n",
       "50%    219.000000    5000.000000    4.500000     60.000000   -7.020524   \n",
       "75%    328.000000   20000.000000    4.600000    120.000000   -6.829411   \n",
       "max    437.000000  900000.000000    5.000000    360.000000    1.078880   \n",
       "\n",
       "             Long  Unnamed: 11  Unnamed: 12  \n",
       "count  437.000000          0.0   437.000000  \n",
       "mean   109.160142          NaN   219.000000  \n",
       "std      1.962848          NaN   126.295289  \n",
       "min    103.931398          NaN     1.000000  \n",
       "25%    107.578369          NaN   110.000000  \n",
       "50%    110.237468          NaN   219.000000  \n",
       "75%    110.431869          NaN   328.000000  \n",
       "max    112.821662          NaN   437.000000  "
      ]
     },
     "execution_count": 6,
     "metadata": {},
     "output_type": "execute_result"
    }
   ],
   "source": [
    "places.describe()\n"
   ]
  },
  {
   "cell_type": "markdown",
   "metadata": {},
   "source": [
    "Berdasarkan output diatas, didapatkan deskripsi statistik yaitu:\n",
    "1. count: Jumlah sampel data\n",
    "2. mean: Nilai rata-rata\n",
    "3. std: Standar deviasi\n",
    "4. min: Nilai minimum\n",
    "5. 25%: Kuartil bawah/Q1\n",
    "6. 50%: Kuartil tengah/Q2/median\n",
    "7. 75%: Kuartil atas/Q3\n",
    "8. max: Nilai maksimum"
   ]
  },
  {
   "cell_type": "markdown",
   "metadata": {},
   "source": [
    "### 2.2.2. Dataset Ratings"
   ]
  },
  {
   "cell_type": "markdown",
   "metadata": {},
   "source": [
    "Pengecekan informasi variabel dari dataset ratings berupa jumlah kolom, nama kolom, jumlah data per kolom dan tipe datanya."
   ]
  },
  {
   "cell_type": "code",
   "execution_count": 7,
   "metadata": {},
   "outputs": [
    {
     "name": "stdout",
     "output_type": "stream",
     "text": [
      "<class 'pandas.core.frame.DataFrame'>\n",
      "RangeIndex: 10000 entries, 0 to 9999\n",
      "Data columns (total 3 columns):\n",
      " #   Column         Non-Null Count  Dtype\n",
      "---  ------         --------------  -----\n",
      " 0   User_Id        10000 non-null  int64\n",
      " 1   Place_Id       10000 non-null  int64\n",
      " 2   Place_Ratings  10000 non-null  int64\n",
      "dtypes: int64(3)\n",
      "memory usage: 234.5 KB\n"
     ]
    }
   ],
   "source": [
    "ratings.info()\n"
   ]
  },
  {
   "cell_type": "markdown",
   "metadata": {},
   "source": [
    "File ini terdiri dari 3 kolom sebagai berikut:\n",
    "\n",
    "- User_Id: identitas unik dari setiap pengguna.\n",
    "- Place_Id: identitas unik dari setiap tempat wisata.\n",
    "- Place_Ratings: penilaian atau rating yang diberikan oleh pengguna terhadap tempat wisata tertentu."
   ]
  },
  {
   "cell_type": "markdown",
   "metadata": {},
   "source": [
    "Menampilkan sample dataset ratings."
   ]
  },
  {
   "cell_type": "code",
   "execution_count": 8,
   "metadata": {},
   "outputs": [
    {
     "data": {
      "text/html": [
       "<div>\n",
       "<style scoped>\n",
       "    .dataframe tbody tr th:only-of-type {\n",
       "        vertical-align: middle;\n",
       "    }\n",
       "\n",
       "    .dataframe tbody tr th {\n",
       "        vertical-align: top;\n",
       "    }\n",
       "\n",
       "    .dataframe thead th {\n",
       "        text-align: right;\n",
       "    }\n",
       "</style>\n",
       "<table border=\"1\" class=\"dataframe\">\n",
       "  <thead>\n",
       "    <tr style=\"text-align: right;\">\n",
       "      <th></th>\n",
       "      <th>User_Id</th>\n",
       "      <th>Place_Id</th>\n",
       "      <th>Place_Ratings</th>\n",
       "    </tr>\n",
       "  </thead>\n",
       "  <tbody>\n",
       "    <tr>\n",
       "      <th>0</th>\n",
       "      <td>1</td>\n",
       "      <td>179</td>\n",
       "      <td>3</td>\n",
       "    </tr>\n",
       "    <tr>\n",
       "      <th>1</th>\n",
       "      <td>1</td>\n",
       "      <td>344</td>\n",
       "      <td>2</td>\n",
       "    </tr>\n",
       "    <tr>\n",
       "      <th>2</th>\n",
       "      <td>1</td>\n",
       "      <td>5</td>\n",
       "      <td>5</td>\n",
       "    </tr>\n",
       "    <tr>\n",
       "      <th>3</th>\n",
       "      <td>1</td>\n",
       "      <td>373</td>\n",
       "      <td>3</td>\n",
       "    </tr>\n",
       "    <tr>\n",
       "      <th>4</th>\n",
       "      <td>1</td>\n",
       "      <td>101</td>\n",
       "      <td>4</td>\n",
       "    </tr>\n",
       "  </tbody>\n",
       "</table>\n",
       "</div>"
      ],
      "text/plain": [
       "   User_Id  Place_Id  Place_Ratings\n",
       "0        1       179              3\n",
       "1        1       344              2\n",
       "2        1         5              5\n",
       "3        1       373              3\n",
       "4        1       101              4"
      ]
     },
     "execution_count": 8,
     "metadata": {},
     "output_type": "execute_result"
    }
   ],
   "source": [
    "ratings.head()\n"
   ]
  },
  {
   "cell_type": "markdown",
   "metadata": {},
   "source": [
    "Melakukan pengecekan deskripsi statistik dataset ratings dengan fitur describe()."
   ]
  },
  {
   "cell_type": "code",
   "execution_count": 9,
   "metadata": {},
   "outputs": [
    {
     "data": {
      "text/html": [
       "<div>\n",
       "<style scoped>\n",
       "    .dataframe tbody tr th:only-of-type {\n",
       "        vertical-align: middle;\n",
       "    }\n",
       "\n",
       "    .dataframe tbody tr th {\n",
       "        vertical-align: top;\n",
       "    }\n",
       "\n",
       "    .dataframe thead th {\n",
       "        text-align: right;\n",
       "    }\n",
       "</style>\n",
       "<table border=\"1\" class=\"dataframe\">\n",
       "  <thead>\n",
       "    <tr style=\"text-align: right;\">\n",
       "      <th></th>\n",
       "      <th>User_Id</th>\n",
       "      <th>Place_Id</th>\n",
       "      <th>Place_Ratings</th>\n",
       "    </tr>\n",
       "  </thead>\n",
       "  <tbody>\n",
       "    <tr>\n",
       "      <th>count</th>\n",
       "      <td>10000.000000</td>\n",
       "      <td>10000.000000</td>\n",
       "      <td>10000.000000</td>\n",
       "    </tr>\n",
       "    <tr>\n",
       "      <th>mean</th>\n",
       "      <td>151.292700</td>\n",
       "      <td>219.416400</td>\n",
       "      <td>3.066500</td>\n",
       "    </tr>\n",
       "    <tr>\n",
       "      <th>std</th>\n",
       "      <td>86.137374</td>\n",
       "      <td>126.228335</td>\n",
       "      <td>1.379952</td>\n",
       "    </tr>\n",
       "    <tr>\n",
       "      <th>min</th>\n",
       "      <td>1.000000</td>\n",
       "      <td>1.000000</td>\n",
       "      <td>1.000000</td>\n",
       "    </tr>\n",
       "    <tr>\n",
       "      <th>25%</th>\n",
       "      <td>77.000000</td>\n",
       "      <td>108.750000</td>\n",
       "      <td>2.000000</td>\n",
       "    </tr>\n",
       "    <tr>\n",
       "      <th>50%</th>\n",
       "      <td>151.000000</td>\n",
       "      <td>220.000000</td>\n",
       "      <td>3.000000</td>\n",
       "    </tr>\n",
       "    <tr>\n",
       "      <th>75%</th>\n",
       "      <td>226.000000</td>\n",
       "      <td>329.000000</td>\n",
       "      <td>4.000000</td>\n",
       "    </tr>\n",
       "    <tr>\n",
       "      <th>max</th>\n",
       "      <td>300.000000</td>\n",
       "      <td>437.000000</td>\n",
       "      <td>5.000000</td>\n",
       "    </tr>\n",
       "  </tbody>\n",
       "</table>\n",
       "</div>"
      ],
      "text/plain": [
       "            User_Id      Place_Id  Place_Ratings\n",
       "count  10000.000000  10000.000000   10000.000000\n",
       "mean     151.292700    219.416400       3.066500\n",
       "std       86.137374    126.228335       1.379952\n",
       "min        1.000000      1.000000       1.000000\n",
       "25%       77.000000    108.750000       2.000000\n",
       "50%      151.000000    220.000000       3.000000\n",
       "75%      226.000000    329.000000       4.000000\n",
       "max      300.000000    437.000000       5.000000"
      ]
     },
     "execution_count": 9,
     "metadata": {},
     "output_type": "execute_result"
    }
   ],
   "source": [
    "ratings.describe()\n"
   ]
  },
  {
   "cell_type": "markdown",
   "metadata": {},
   "source": [
    "# **3. Data Preparation**"
   ]
  },
  {
   "cell_type": "markdown",
   "metadata": {},
   "source": [
    "Tahap data preparation merupakan proses transformasi data menjadi bentuk yang dapat diterima oleh model machine learning nanti. Proses data preparation yang dilakukan, yaitu membersihkan data missing value, dan melakukan pengecekan data duplikat."
   ]
  },
  {
   "cell_type": "markdown",
   "metadata": {},
   "source": [
    "## 3.1. Menghapus Kolom yang Tidak Diperlukan"
   ]
  },
  {
   "cell_type": "markdown",
   "metadata": {},
   "source": [
    "Data yang diperlukan hanya ada pada kolom `Place_Id`, `Place_Name`, dan `Category`, jadi hapus yang lain."
   ]
  },
  {
   "cell_type": "code",
   "execution_count": 10,
   "metadata": {},
   "outputs": [],
   "source": [
    "places = places.drop(['Description', 'City', 'Price', 'Rating', 'Time_Minutes', 'Coordinate', 'Lat', 'Long', 'Unnamed: 11', 'Unnamed: 12'], axis=1)"
   ]
  },
  {
   "cell_type": "markdown",
   "metadata": {},
   "source": [
    "## 3.2. Pengecekan Missing Value"
   ]
  },
  {
   "cell_type": "code",
   "execution_count": 11,
   "metadata": {},
   "outputs": [
    {
     "data": {
      "text/plain": [
       "Place_Id      0\n",
       "Place_Name    0\n",
       "Category      0\n",
       "dtype: int64"
      ]
     },
     "execution_count": 11,
     "metadata": {},
     "output_type": "execute_result"
    }
   ],
   "source": [
    "places.isnull().sum()\n"
   ]
  },
  {
   "cell_type": "code",
   "execution_count": 12,
   "metadata": {},
   "outputs": [
    {
     "data": {
      "text/plain": [
       "User_Id          0\n",
       "Place_Id         0\n",
       "Place_Ratings    0\n",
       "dtype: int64"
      ]
     },
     "execution_count": 12,
     "metadata": {},
     "output_type": "execute_result"
    }
   ],
   "source": [
    "ratings.isnull().sum()\n"
   ]
  },
  {
   "cell_type": "markdown",
   "metadata": {},
   "source": [
    "## 3.3. Pengecekan Data Duplikat"
   ]
  },
  {
   "cell_type": "code",
   "execution_count": 13,
   "metadata": {},
   "outputs": [
    {
     "name": "stdout",
     "output_type": "stream",
     "text": [
      "Jumlah data places yang duplikat: 0\n",
      "Jumlah data rating yang duplikat: 79\n"
     ]
    }
   ],
   "source": [
    "print(f'Jumlah data places yang duplikat: {places.duplicated().sum()}')\n",
    "print(f'Jumlah data rating yang duplikat: {ratings.duplicated().sum()}')\n"
   ]
  },
  {
   "cell_type": "markdown",
   "metadata": {},
   "source": [
    "Menghapus duplicate"
   ]
  },
  {
   "cell_type": "code",
   "execution_count": 14,
   "metadata": {},
   "outputs": [],
   "source": [
    "ratings.drop_duplicates(inplace = True)"
   ]
  },
  {
   "cell_type": "markdown",
   "metadata": {},
   "source": [
    "# **4. Modeling**"
   ]
  },
  {
   "cell_type": "markdown",
   "metadata": {},
   "source": [
    "Tahap pengembangan modeling sistem rekomendasi dilakukan untuk membangun model sistem rekomendasi yang dapat menyarankan destinasi wisata terbaik bagi pengguna tertentu berdasarkan rating atau penilaian mereka terhadap destinasi wisata. Teknik yang digunakan untuk membangun model ini adalah _content-based filtering recommendation_ dan _collaborative filtering recommendation_."
   ]
  },
  {
   "cell_type": "markdown",
   "metadata": {},
   "source": [
    "## 4.1. Model Development dengan Content-based"
   ]
  },
  {
   "cell_type": "markdown",
   "metadata": {},
   "source": [
    "Penggunaan teknik _content-based filtering_ dalam sistem rekomendasi bertujuan untuk menyarankan item yang mirip dengan item yang telah disukai pengguna di masa lalu. Teknik ini mempelajari profil minat pengguna baru berdasarkan data dari objek yang telah dinilai oleh pengguna. Dengan menyarankan item yang serupa dengan yang pernah disukai atau sedang dilihat di masa kini, algoritma ini berusaha memberikan rekomendasi yang akurat kepada pengguna. Semakin banyak informasi yang diberikan pengguna, semakin baik akurasi sistem rekomendasi."
   ]
  },
  {
   "cell_type": "markdown",
   "metadata": {},
   "source": [
    "### 4.1.1. TF-IDF Vectorizer"
   ]
  },
  {
   "cell_type": "markdown",
   "metadata": {},
   "source": [
    "TF-IDF Vectorizer digunakan untuk menemukan representasi fitur yang penting dari setiap kategori destinasi wisata. Alat ini dari library scikit-learn akan mengubah nilai-nilai tersebut menjadi vektor dengan menggunakan metode fit_transform dan transform, serta melakukan pemecahan data menjadi bagian-bagian yang lebih kecil secara langsung."
   ]
  },
  {
   "cell_type": "code",
   "execution_count": 15,
   "metadata": {},
   "outputs": [
    {
     "data": {
      "text/plain": [
       "array(['alam', 'bahari', 'budaya', 'cagar', 'hiburan', 'ibadah',\n",
       "       'perbelanjaan', 'pusat', 'taman', 'tempat'], dtype=object)"
      ]
     },
     "execution_count": 15,
     "metadata": {},
     "output_type": "execute_result"
    }
   ],
   "source": [
    "from sklearn.feature_extraction.text import TfidfVectorizer\n",
    "\n",
    "tf = TfidfVectorizer()\n",
    "\n",
    "tf.fit(places['Category'])\n",
    "\n",
    "tf.get_feature_names_out()\n"
   ]
  },
  {
   "cell_type": "markdown",
   "metadata": {},
   "source": [
    "Transformasi data tempat pada kolom category menjadi bentuk verktor matriks."
   ]
  },
  {
   "cell_type": "code",
   "execution_count": 16,
   "metadata": {},
   "outputs": [
    {
     "data": {
      "text/plain": [
       "(437, 10)"
      ]
     },
     "execution_count": 16,
     "metadata": {},
     "output_type": "execute_result"
    }
   ],
   "source": [
    "tfidf_matrix = tf.fit_transform(places['Category'])\n",
    "tfidf_matrix.shape\n"
   ]
  },
  {
   "cell_type": "markdown",
   "metadata": {},
   "source": [
    "Mengubah bentuk vectorizer yaitu vektor menjadi bentuk matriks."
   ]
  },
  {
   "cell_type": "code",
   "execution_count": 17,
   "metadata": {},
   "outputs": [
    {
     "data": {
      "text/plain": [
       "matrix([[0.        , 0.        , 1.        , ..., 0.        , 0.        ,\n",
       "         0.        ],\n",
       "        [0.        , 0.        , 1.        , ..., 0.        , 0.        ,\n",
       "         0.        ],\n",
       "        [0.        , 0.        , 0.        , ..., 0.        , 0.70710678,\n",
       "         0.        ],\n",
       "        ...,\n",
       "        [0.        , 0.        , 0.        , ..., 0.        , 0.70710678,\n",
       "         0.        ],\n",
       "        [0.        , 0.        , 0.        , ..., 0.        , 0.70710678,\n",
       "         0.        ],\n",
       "        [0.        , 0.        , 0.        , ..., 0.        , 0.        ,\n",
       "         0.70710678]])"
      ]
     },
     "execution_count": 17,
     "metadata": {},
     "output_type": "execute_result"
    }
   ],
   "source": [
    "tfidf_matrix.todense()\n"
   ]
  },
  {
   "cell_type": "code",
   "execution_count": 18,
   "metadata": {},
   "outputs": [
    {
     "data": {
      "text/html": [
       "<div>\n",
       "<style scoped>\n",
       "    .dataframe tbody tr th:only-of-type {\n",
       "        vertical-align: middle;\n",
       "    }\n",
       "\n",
       "    .dataframe tbody tr th {\n",
       "        vertical-align: top;\n",
       "    }\n",
       "\n",
       "    .dataframe thead th {\n",
       "        text-align: right;\n",
       "    }\n",
       "</style>\n",
       "<table border=\"1\" class=\"dataframe\">\n",
       "  <thead>\n",
       "    <tr style=\"text-align: right;\">\n",
       "      <th></th>\n",
       "      <th>alam</th>\n",
       "      <th>bahari</th>\n",
       "      <th>budaya</th>\n",
       "      <th>cagar</th>\n",
       "      <th>hiburan</th>\n",
       "      <th>ibadah</th>\n",
       "      <th>perbelanjaan</th>\n",
       "      <th>pusat</th>\n",
       "      <th>taman</th>\n",
       "      <th>tempat</th>\n",
       "    </tr>\n",
       "    <tr>\n",
       "      <th>Place_Name</th>\n",
       "      <th></th>\n",
       "      <th></th>\n",
       "      <th></th>\n",
       "      <th></th>\n",
       "      <th></th>\n",
       "      <th></th>\n",
       "      <th></th>\n",
       "      <th></th>\n",
       "      <th></th>\n",
       "      <th></th>\n",
       "    </tr>\n",
       "  </thead>\n",
       "  <tbody>\n",
       "    <tr>\n",
       "      <th>Panama Park 825</th>\n",
       "      <td>0.000000</td>\n",
       "      <td>0.0</td>\n",
       "      <td>0.0</td>\n",
       "      <td>0.000000</td>\n",
       "      <td>0.707107</td>\n",
       "      <td>0.0</td>\n",
       "      <td>0.0</td>\n",
       "      <td>0.0</td>\n",
       "      <td>0.707107</td>\n",
       "      <td>0.0</td>\n",
       "    </tr>\n",
       "    <tr>\n",
       "      <th>Wisata Alam Mangrove Angke</th>\n",
       "      <td>0.707107</td>\n",
       "      <td>0.0</td>\n",
       "      <td>0.0</td>\n",
       "      <td>0.707107</td>\n",
       "      <td>0.000000</td>\n",
       "      <td>0.0</td>\n",
       "      <td>0.0</td>\n",
       "      <td>0.0</td>\n",
       "      <td>0.000000</td>\n",
       "      <td>0.0</td>\n",
       "    </tr>\n",
       "    <tr>\n",
       "      <th>Museum Gedung Sate</th>\n",
       "      <td>0.000000</td>\n",
       "      <td>0.0</td>\n",
       "      <td>1.0</td>\n",
       "      <td>0.000000</td>\n",
       "      <td>0.000000</td>\n",
       "      <td>0.0</td>\n",
       "      <td>0.0</td>\n",
       "      <td>0.0</td>\n",
       "      <td>0.000000</td>\n",
       "      <td>0.0</td>\n",
       "    </tr>\n",
       "    <tr>\n",
       "      <th>Taman Mini Indonesia Indah (TMII)</th>\n",
       "      <td>0.000000</td>\n",
       "      <td>0.0</td>\n",
       "      <td>0.0</td>\n",
       "      <td>0.000000</td>\n",
       "      <td>0.707107</td>\n",
       "      <td>0.0</td>\n",
       "      <td>0.0</td>\n",
       "      <td>0.0</td>\n",
       "      <td>0.707107</td>\n",
       "      <td>0.0</td>\n",
       "    </tr>\n",
       "    <tr>\n",
       "      <th>Ciputra Waterpark</th>\n",
       "      <td>0.000000</td>\n",
       "      <td>0.0</td>\n",
       "      <td>0.0</td>\n",
       "      <td>0.000000</td>\n",
       "      <td>0.707107</td>\n",
       "      <td>0.0</td>\n",
       "      <td>0.0</td>\n",
       "      <td>0.0</td>\n",
       "      <td>0.707107</td>\n",
       "      <td>0.0</td>\n",
       "    </tr>\n",
       "    <tr>\n",
       "      <th>Taman Pandanaran</th>\n",
       "      <td>0.000000</td>\n",
       "      <td>0.0</td>\n",
       "      <td>0.0</td>\n",
       "      <td>0.000000</td>\n",
       "      <td>0.707107</td>\n",
       "      <td>0.0</td>\n",
       "      <td>0.0</td>\n",
       "      <td>0.0</td>\n",
       "      <td>0.707107</td>\n",
       "      <td>0.0</td>\n",
       "    </tr>\n",
       "    <tr>\n",
       "      <th>Monumen Serangan Umum 1 Maret</th>\n",
       "      <td>0.000000</td>\n",
       "      <td>0.0</td>\n",
       "      <td>0.0</td>\n",
       "      <td>0.000000</td>\n",
       "      <td>0.707107</td>\n",
       "      <td>0.0</td>\n",
       "      <td>0.0</td>\n",
       "      <td>0.0</td>\n",
       "      <td>0.707107</td>\n",
       "      <td>0.0</td>\n",
       "    </tr>\n",
       "    <tr>\n",
       "      <th>Ledok Sambi</th>\n",
       "      <td>0.707107</td>\n",
       "      <td>0.0</td>\n",
       "      <td>0.0</td>\n",
       "      <td>0.707107</td>\n",
       "      <td>0.000000</td>\n",
       "      <td>0.0</td>\n",
       "      <td>0.0</td>\n",
       "      <td>0.0</td>\n",
       "      <td>0.000000</td>\n",
       "      <td>0.0</td>\n",
       "    </tr>\n",
       "    <tr>\n",
       "      <th>Pesona Nirwana Waterpark &amp; Cottages</th>\n",
       "      <td>0.000000</td>\n",
       "      <td>0.0</td>\n",
       "      <td>0.0</td>\n",
       "      <td>0.000000</td>\n",
       "      <td>0.707107</td>\n",
       "      <td>0.0</td>\n",
       "      <td>0.0</td>\n",
       "      <td>0.0</td>\n",
       "      <td>0.707107</td>\n",
       "      <td>0.0</td>\n",
       "    </tr>\n",
       "    <tr>\n",
       "      <th>Kawah Rengganis Cibuni</th>\n",
       "      <td>0.707107</td>\n",
       "      <td>0.0</td>\n",
       "      <td>0.0</td>\n",
       "      <td>0.707107</td>\n",
       "      <td>0.000000</td>\n",
       "      <td>0.0</td>\n",
       "      <td>0.0</td>\n",
       "      <td>0.0</td>\n",
       "      <td>0.000000</td>\n",
       "      <td>0.0</td>\n",
       "    </tr>\n",
       "  </tbody>\n",
       "</table>\n",
       "</div>"
      ],
      "text/plain": [
       "                                         alam  bahari  budaya     cagar  \\\n",
       "Place_Name                                                                \n",
       "Panama Park 825                      0.000000     0.0     0.0  0.000000   \n",
       "Wisata Alam Mangrove Angke           0.707107     0.0     0.0  0.707107   \n",
       "Museum Gedung Sate                   0.000000     0.0     1.0  0.000000   \n",
       "Taman Mini Indonesia Indah (TMII)    0.000000     0.0     0.0  0.000000   \n",
       "Ciputra Waterpark                    0.000000     0.0     0.0  0.000000   \n",
       "Taman Pandanaran                     0.000000     0.0     0.0  0.000000   \n",
       "Monumen Serangan Umum 1 Maret        0.000000     0.0     0.0  0.000000   \n",
       "Ledok Sambi                          0.707107     0.0     0.0  0.707107   \n",
       "Pesona Nirwana Waterpark & Cottages  0.000000     0.0     0.0  0.000000   \n",
       "Kawah Rengganis Cibuni               0.707107     0.0     0.0  0.707107   \n",
       "\n",
       "                                      hiburan  ibadah  perbelanjaan  pusat  \\\n",
       "Place_Name                                                                   \n",
       "Panama Park 825                      0.707107     0.0           0.0    0.0   \n",
       "Wisata Alam Mangrove Angke           0.000000     0.0           0.0    0.0   \n",
       "Museum Gedung Sate                   0.000000     0.0           0.0    0.0   \n",
       "Taman Mini Indonesia Indah (TMII)    0.707107     0.0           0.0    0.0   \n",
       "Ciputra Waterpark                    0.707107     0.0           0.0    0.0   \n",
       "Taman Pandanaran                     0.707107     0.0           0.0    0.0   \n",
       "Monumen Serangan Umum 1 Maret        0.707107     0.0           0.0    0.0   \n",
       "Ledok Sambi                          0.000000     0.0           0.0    0.0   \n",
       "Pesona Nirwana Waterpark & Cottages  0.707107     0.0           0.0    0.0   \n",
       "Kawah Rengganis Cibuni               0.000000     0.0           0.0    0.0   \n",
       "\n",
       "                                        taman  tempat  \n",
       "Place_Name                                             \n",
       "Panama Park 825                      0.707107     0.0  \n",
       "Wisata Alam Mangrove Angke           0.000000     0.0  \n",
       "Museum Gedung Sate                   0.000000     0.0  \n",
       "Taman Mini Indonesia Indah (TMII)    0.707107     0.0  \n",
       "Ciputra Waterpark                    0.707107     0.0  \n",
       "Taman Pandanaran                     0.707107     0.0  \n",
       "Monumen Serangan Umum 1 Maret        0.707107     0.0  \n",
       "Ledok Sambi                          0.000000     0.0  \n",
       "Pesona Nirwana Waterpark & Cottages  0.707107     0.0  \n",
       "Kawah Rengganis Cibuni               0.000000     0.0  "
      ]
     },
     "execution_count": 18,
     "metadata": {},
     "output_type": "execute_result"
    }
   ],
   "source": [
    "pd.DataFrame(\n",
    "    tfidf_matrix.todense(),\n",
    "    columns=tf.get_feature_names_out(),\n",
    "    index=places.Place_Name\n",
    ").sample(10, axis=0)\n"
   ]
  },
  {
   "cell_type": "markdown",
   "metadata": {},
   "source": [
    "### 4.1.2. Cosine Similarity"
   ]
  },
  {
   "cell_type": "markdown",
   "metadata": {},
   "source": [
    "Melakukan perhitungan derajat kesamaan atau similatiry degree antar nama tempat wisata dengan teknik cosine similarity menggunakan library scikit-learn."
   ]
  },
  {
   "cell_type": "code",
   "execution_count": 19,
   "metadata": {},
   "outputs": [
    {
     "data": {
      "text/plain": [
       "array([[1., 1., 0., ..., 0., 0., 0.],\n",
       "       [1., 1., 0., ..., 0., 0., 0.],\n",
       "       [0., 0., 1., ..., 1., 1., 0.],\n",
       "       ...,\n",
       "       [0., 0., 1., ..., 1., 1., 0.],\n",
       "       [0., 0., 1., ..., 1., 1., 0.],\n",
       "       [0., 0., 0., ..., 0., 0., 1.]])"
      ]
     },
     "execution_count": 19,
     "metadata": {},
     "output_type": "execute_result"
    }
   ],
   "source": [
    "from sklearn.metrics.pairwise import cosine_similarity\n",
    "\n",
    "cosine_sim = cosine_similarity(tfidf_matrix)\n",
    "cosine_sim\n"
   ]
  },
  {
   "cell_type": "markdown",
   "metadata": {},
   "source": [
    "Mengubah matriks cosine similarity menjadi bentuk dataframe antar nama tempat (destinasi wisata)."
   ]
  },
  {
   "cell_type": "code",
   "execution_count": 20,
   "metadata": {},
   "outputs": [
    {
     "name": "stdout",
     "output_type": "stream",
     "text": [
      "Shape: (437, 437)\n"
     ]
    },
    {
     "data": {
      "text/html": [
       "<div>\n",
       "<style scoped>\n",
       "    .dataframe tbody tr th:only-of-type {\n",
       "        vertical-align: middle;\n",
       "    }\n",
       "\n",
       "    .dataframe tbody tr th {\n",
       "        vertical-align: top;\n",
       "    }\n",
       "\n",
       "    .dataframe thead th {\n",
       "        text-align: right;\n",
       "    }\n",
       "</style>\n",
       "<table border=\"1\" class=\"dataframe\">\n",
       "  <thead>\n",
       "    <tr style=\"text-align: right;\">\n",
       "      <th>Place_Name</th>\n",
       "      <th>Monumen Nasional</th>\n",
       "      <th>Kota Tua</th>\n",
       "      <th>Dunia Fantasi</th>\n",
       "      <th>Taman Mini Indonesia Indah (TMII)</th>\n",
       "      <th>Atlantis Water Adventure</th>\n",
       "      <th>Taman Impian Jaya Ancol</th>\n",
       "      <th>Kebun Binatang Ragunan</th>\n",
       "      <th>Ocean Ecopark</th>\n",
       "      <th>Pelabuhan Marina</th>\n",
       "      <th>Pulau Tidung</th>\n",
       "      <th>...</th>\n",
       "      <th>Monumen Bambu Runcing Surabaya</th>\n",
       "      <th>House of Sampoerna</th>\n",
       "      <th>Atlantis Land Surabaya</th>\n",
       "      <th>Taman Hiburan Rakyat</th>\n",
       "      <th>Taman Mundu</th>\n",
       "      <th>Museum Mpu Tantular</th>\n",
       "      <th>Taman Bungkul</th>\n",
       "      <th>Taman Air Mancur Menari Kenjeran</th>\n",
       "      <th>Taman Flora Bratang Surabaya</th>\n",
       "      <th>Gereja Perawan Maria Tak Berdosa Surabaya</th>\n",
       "    </tr>\n",
       "    <tr>\n",
       "      <th>Place_Name</th>\n",
       "      <th></th>\n",
       "      <th></th>\n",
       "      <th></th>\n",
       "      <th></th>\n",
       "      <th></th>\n",
       "      <th></th>\n",
       "      <th></th>\n",
       "      <th></th>\n",
       "      <th></th>\n",
       "      <th></th>\n",
       "      <th></th>\n",
       "      <th></th>\n",
       "      <th></th>\n",
       "      <th></th>\n",
       "      <th></th>\n",
       "      <th></th>\n",
       "      <th></th>\n",
       "      <th></th>\n",
       "      <th></th>\n",
       "      <th></th>\n",
       "      <th></th>\n",
       "    </tr>\n",
       "  </thead>\n",
       "  <tbody>\n",
       "    <tr>\n",
       "      <th>Curug Cipanas</th>\n",
       "      <td>0.0</td>\n",
       "      <td>0.0</td>\n",
       "      <td>0.0</td>\n",
       "      <td>0.0</td>\n",
       "      <td>0.0</td>\n",
       "      <td>0.0</td>\n",
       "      <td>1.0</td>\n",
       "      <td>0.0</td>\n",
       "      <td>0.0</td>\n",
       "      <td>0.0</td>\n",
       "      <td>...</td>\n",
       "      <td>0.0</td>\n",
       "      <td>0.0</td>\n",
       "      <td>0.0</td>\n",
       "      <td>0.0</td>\n",
       "      <td>0.0</td>\n",
       "      <td>0.0</td>\n",
       "      <td>0.0</td>\n",
       "      <td>0.0</td>\n",
       "      <td>0.0</td>\n",
       "      <td>0.0</td>\n",
       "    </tr>\n",
       "    <tr>\n",
       "      <th>Glamping Lakeside Rancabali</th>\n",
       "      <td>0.0</td>\n",
       "      <td>0.0</td>\n",
       "      <td>1.0</td>\n",
       "      <td>1.0</td>\n",
       "      <td>1.0</td>\n",
       "      <td>1.0</td>\n",
       "      <td>0.0</td>\n",
       "      <td>1.0</td>\n",
       "      <td>0.0</td>\n",
       "      <td>0.0</td>\n",
       "      <td>...</td>\n",
       "      <td>0.0</td>\n",
       "      <td>0.0</td>\n",
       "      <td>1.0</td>\n",
       "      <td>1.0</td>\n",
       "      <td>1.0</td>\n",
       "      <td>0.0</td>\n",
       "      <td>1.0</td>\n",
       "      <td>1.0</td>\n",
       "      <td>1.0</td>\n",
       "      <td>0.0</td>\n",
       "    </tr>\n",
       "    <tr>\n",
       "      <th>Monumen Nasional</th>\n",
       "      <td>1.0</td>\n",
       "      <td>1.0</td>\n",
       "      <td>0.0</td>\n",
       "      <td>0.0</td>\n",
       "      <td>0.0</td>\n",
       "      <td>0.0</td>\n",
       "      <td>0.0</td>\n",
       "      <td>0.0</td>\n",
       "      <td>0.0</td>\n",
       "      <td>0.0</td>\n",
       "      <td>...</td>\n",
       "      <td>1.0</td>\n",
       "      <td>1.0</td>\n",
       "      <td>0.0</td>\n",
       "      <td>0.0</td>\n",
       "      <td>0.0</td>\n",
       "      <td>1.0</td>\n",
       "      <td>0.0</td>\n",
       "      <td>0.0</td>\n",
       "      <td>0.0</td>\n",
       "      <td>0.0</td>\n",
       "    </tr>\n",
       "    <tr>\n",
       "      <th>Pasar Kebon Empring Bintaran</th>\n",
       "      <td>0.0</td>\n",
       "      <td>0.0</td>\n",
       "      <td>0.0</td>\n",
       "      <td>0.0</td>\n",
       "      <td>0.0</td>\n",
       "      <td>0.0</td>\n",
       "      <td>0.0</td>\n",
       "      <td>0.0</td>\n",
       "      <td>0.0</td>\n",
       "      <td>0.0</td>\n",
       "      <td>...</td>\n",
       "      <td>0.0</td>\n",
       "      <td>0.0</td>\n",
       "      <td>0.0</td>\n",
       "      <td>0.0</td>\n",
       "      <td>0.0</td>\n",
       "      <td>0.0</td>\n",
       "      <td>0.0</td>\n",
       "      <td>0.0</td>\n",
       "      <td>0.0</td>\n",
       "      <td>0.0</td>\n",
       "    </tr>\n",
       "    <tr>\n",
       "      <th>Keraton Surabaya</th>\n",
       "      <td>1.0</td>\n",
       "      <td>1.0</td>\n",
       "      <td>0.0</td>\n",
       "      <td>0.0</td>\n",
       "      <td>0.0</td>\n",
       "      <td>0.0</td>\n",
       "      <td>0.0</td>\n",
       "      <td>0.0</td>\n",
       "      <td>0.0</td>\n",
       "      <td>0.0</td>\n",
       "      <td>...</td>\n",
       "      <td>1.0</td>\n",
       "      <td>1.0</td>\n",
       "      <td>0.0</td>\n",
       "      <td>0.0</td>\n",
       "      <td>0.0</td>\n",
       "      <td>1.0</td>\n",
       "      <td>0.0</td>\n",
       "      <td>0.0</td>\n",
       "      <td>0.0</td>\n",
       "      <td>0.0</td>\n",
       "    </tr>\n",
       "    <tr>\n",
       "      <th>Sanghyang Heuleut</th>\n",
       "      <td>0.0</td>\n",
       "      <td>0.0</td>\n",
       "      <td>0.0</td>\n",
       "      <td>0.0</td>\n",
       "      <td>0.0</td>\n",
       "      <td>0.0</td>\n",
       "      <td>1.0</td>\n",
       "      <td>0.0</td>\n",
       "      <td>0.0</td>\n",
       "      <td>0.0</td>\n",
       "      <td>...</td>\n",
       "      <td>0.0</td>\n",
       "      <td>0.0</td>\n",
       "      <td>0.0</td>\n",
       "      <td>0.0</td>\n",
       "      <td>0.0</td>\n",
       "      <td>0.0</td>\n",
       "      <td>0.0</td>\n",
       "      <td>0.0</td>\n",
       "      <td>0.0</td>\n",
       "      <td>0.0</td>\n",
       "    </tr>\n",
       "    <tr>\n",
       "      <th>Taman Vanda</th>\n",
       "      <td>0.0</td>\n",
       "      <td>0.0</td>\n",
       "      <td>1.0</td>\n",
       "      <td>1.0</td>\n",
       "      <td>1.0</td>\n",
       "      <td>1.0</td>\n",
       "      <td>0.0</td>\n",
       "      <td>1.0</td>\n",
       "      <td>0.0</td>\n",
       "      <td>0.0</td>\n",
       "      <td>...</td>\n",
       "      <td>0.0</td>\n",
       "      <td>0.0</td>\n",
       "      <td>1.0</td>\n",
       "      <td>1.0</td>\n",
       "      <td>1.0</td>\n",
       "      <td>0.0</td>\n",
       "      <td>1.0</td>\n",
       "      <td>1.0</td>\n",
       "      <td>1.0</td>\n",
       "      <td>0.0</td>\n",
       "    </tr>\n",
       "    <tr>\n",
       "      <th>Tebing Breksi</th>\n",
       "      <td>1.0</td>\n",
       "      <td>1.0</td>\n",
       "      <td>0.0</td>\n",
       "      <td>0.0</td>\n",
       "      <td>0.0</td>\n",
       "      <td>0.0</td>\n",
       "      <td>0.0</td>\n",
       "      <td>0.0</td>\n",
       "      <td>0.0</td>\n",
       "      <td>0.0</td>\n",
       "      <td>...</td>\n",
       "      <td>1.0</td>\n",
       "      <td>1.0</td>\n",
       "      <td>0.0</td>\n",
       "      <td>0.0</td>\n",
       "      <td>0.0</td>\n",
       "      <td>1.0</td>\n",
       "      <td>0.0</td>\n",
       "      <td>0.0</td>\n",
       "      <td>0.0</td>\n",
       "      <td>0.0</td>\n",
       "    </tr>\n",
       "    <tr>\n",
       "      <th>Obyek Wisata Goa Kreo</th>\n",
       "      <td>0.0</td>\n",
       "      <td>0.0</td>\n",
       "      <td>0.0</td>\n",
       "      <td>0.0</td>\n",
       "      <td>0.0</td>\n",
       "      <td>0.0</td>\n",
       "      <td>1.0</td>\n",
       "      <td>0.0</td>\n",
       "      <td>0.0</td>\n",
       "      <td>0.0</td>\n",
       "      <td>...</td>\n",
       "      <td>0.0</td>\n",
       "      <td>0.0</td>\n",
       "      <td>0.0</td>\n",
       "      <td>0.0</td>\n",
       "      <td>0.0</td>\n",
       "      <td>0.0</td>\n",
       "      <td>0.0</td>\n",
       "      <td>0.0</td>\n",
       "      <td>0.0</td>\n",
       "      <td>0.0</td>\n",
       "    </tr>\n",
       "    <tr>\n",
       "      <th>Pantai Kesirat</th>\n",
       "      <td>0.0</td>\n",
       "      <td>0.0</td>\n",
       "      <td>0.0</td>\n",
       "      <td>0.0</td>\n",
       "      <td>0.0</td>\n",
       "      <td>0.0</td>\n",
       "      <td>0.0</td>\n",
       "      <td>0.0</td>\n",
       "      <td>1.0</td>\n",
       "      <td>1.0</td>\n",
       "      <td>...</td>\n",
       "      <td>0.0</td>\n",
       "      <td>0.0</td>\n",
       "      <td>0.0</td>\n",
       "      <td>0.0</td>\n",
       "      <td>0.0</td>\n",
       "      <td>0.0</td>\n",
       "      <td>0.0</td>\n",
       "      <td>0.0</td>\n",
       "      <td>0.0</td>\n",
       "      <td>0.0</td>\n",
       "    </tr>\n",
       "  </tbody>\n",
       "</table>\n",
       "<p>10 rows × 437 columns</p>\n",
       "</div>"
      ],
      "text/plain": [
       "Place_Name                    Monumen Nasional  Kota Tua  Dunia Fantasi  \\\n",
       "Place_Name                                                                \n",
       "Curug Cipanas                              0.0       0.0            0.0   \n",
       "Glamping Lakeside Rancabali                0.0       0.0            1.0   \n",
       "Monumen Nasional                           1.0       1.0            0.0   \n",
       "Pasar Kebon Empring Bintaran               0.0       0.0            0.0   \n",
       "Keraton Surabaya                           1.0       1.0            0.0   \n",
       "Sanghyang Heuleut                          0.0       0.0            0.0   \n",
       "Taman Vanda                                0.0       0.0            1.0   \n",
       "Tebing Breksi                              1.0       1.0            0.0   \n",
       "Obyek Wisata Goa Kreo                      0.0       0.0            0.0   \n",
       "Pantai Kesirat                             0.0       0.0            0.0   \n",
       "\n",
       "Place_Name                    Taman Mini Indonesia Indah (TMII)  \\\n",
       "Place_Name                                                        \n",
       "Curug Cipanas                                               0.0   \n",
       "Glamping Lakeside Rancabali                                 1.0   \n",
       "Monumen Nasional                                            0.0   \n",
       "Pasar Kebon Empring Bintaran                                0.0   \n",
       "Keraton Surabaya                                            0.0   \n",
       "Sanghyang Heuleut                                           0.0   \n",
       "Taman Vanda                                                 1.0   \n",
       "Tebing Breksi                                               0.0   \n",
       "Obyek Wisata Goa Kreo                                       0.0   \n",
       "Pantai Kesirat                                              0.0   \n",
       "\n",
       "Place_Name                    Atlantis Water Adventure  \\\n",
       "Place_Name                                               \n",
       "Curug Cipanas                                      0.0   \n",
       "Glamping Lakeside Rancabali                        1.0   \n",
       "Monumen Nasional                                   0.0   \n",
       "Pasar Kebon Empring Bintaran                       0.0   \n",
       "Keraton Surabaya                                   0.0   \n",
       "Sanghyang Heuleut                                  0.0   \n",
       "Taman Vanda                                        1.0   \n",
       "Tebing Breksi                                      0.0   \n",
       "Obyek Wisata Goa Kreo                              0.0   \n",
       "Pantai Kesirat                                     0.0   \n",
       "\n",
       "Place_Name                    Taman Impian Jaya Ancol  Kebun Binatang Ragunan  \\\n",
       "Place_Name                                                                      \n",
       "Curug Cipanas                                     0.0                     1.0   \n",
       "Glamping Lakeside Rancabali                       1.0                     0.0   \n",
       "Monumen Nasional                                  0.0                     0.0   \n",
       "Pasar Kebon Empring Bintaran                      0.0                     0.0   \n",
       "Keraton Surabaya                                  0.0                     0.0   \n",
       "Sanghyang Heuleut                                 0.0                     1.0   \n",
       "Taman Vanda                                       1.0                     0.0   \n",
       "Tebing Breksi                                     0.0                     0.0   \n",
       "Obyek Wisata Goa Kreo                             0.0                     1.0   \n",
       "Pantai Kesirat                                    0.0                     0.0   \n",
       "\n",
       "Place_Name                    Ocean Ecopark  Pelabuhan Marina  Pulau Tidung  \\\n",
       "Place_Name                                                                    \n",
       "Curug Cipanas                           0.0               0.0           0.0   \n",
       "Glamping Lakeside Rancabali             1.0               0.0           0.0   \n",
       "Monumen Nasional                        0.0               0.0           0.0   \n",
       "Pasar Kebon Empring Bintaran            0.0               0.0           0.0   \n",
       "Keraton Surabaya                        0.0               0.0           0.0   \n",
       "Sanghyang Heuleut                       0.0               0.0           0.0   \n",
       "Taman Vanda                             1.0               0.0           0.0   \n",
       "Tebing Breksi                           0.0               0.0           0.0   \n",
       "Obyek Wisata Goa Kreo                   0.0               0.0           0.0   \n",
       "Pantai Kesirat                          0.0               1.0           1.0   \n",
       "\n",
       "Place_Name                    ...  Monumen Bambu Runcing Surabaya  \\\n",
       "Place_Name                    ...                                   \n",
       "Curug Cipanas                 ...                             0.0   \n",
       "Glamping Lakeside Rancabali   ...                             0.0   \n",
       "Monumen Nasional              ...                             1.0   \n",
       "Pasar Kebon Empring Bintaran  ...                             0.0   \n",
       "Keraton Surabaya              ...                             1.0   \n",
       "Sanghyang Heuleut             ...                             0.0   \n",
       "Taman Vanda                   ...                             0.0   \n",
       "Tebing Breksi                 ...                             1.0   \n",
       "Obyek Wisata Goa Kreo         ...                             0.0   \n",
       "Pantai Kesirat                ...                             0.0   \n",
       "\n",
       "Place_Name                    House of Sampoerna  Atlantis Land Surabaya  \\\n",
       "Place_Name                                                                 \n",
       "Curug Cipanas                                0.0                     0.0   \n",
       "Glamping Lakeside Rancabali                  0.0                     1.0   \n",
       "Monumen Nasional                             1.0                     0.0   \n",
       "Pasar Kebon Empring Bintaran                 0.0                     0.0   \n",
       "Keraton Surabaya                             1.0                     0.0   \n",
       "Sanghyang Heuleut                            0.0                     0.0   \n",
       "Taman Vanda                                  0.0                     1.0   \n",
       "Tebing Breksi                                1.0                     0.0   \n",
       "Obyek Wisata Goa Kreo                        0.0                     0.0   \n",
       "Pantai Kesirat                               0.0                     0.0   \n",
       "\n",
       "Place_Name                    Taman Hiburan Rakyat  Taman Mundu  \\\n",
       "Place_Name                                                        \n",
       "Curug Cipanas                                  0.0          0.0   \n",
       "Glamping Lakeside Rancabali                    1.0          1.0   \n",
       "Monumen Nasional                               0.0          0.0   \n",
       "Pasar Kebon Empring Bintaran                   0.0          0.0   \n",
       "Keraton Surabaya                               0.0          0.0   \n",
       "Sanghyang Heuleut                              0.0          0.0   \n",
       "Taman Vanda                                    1.0          1.0   \n",
       "Tebing Breksi                                  0.0          0.0   \n",
       "Obyek Wisata Goa Kreo                          0.0          0.0   \n",
       "Pantai Kesirat                                 0.0          0.0   \n",
       "\n",
       "Place_Name                    Museum Mpu Tantular  Taman Bungkul  \\\n",
       "Place_Name                                                         \n",
       "Curug Cipanas                                 0.0            0.0   \n",
       "Glamping Lakeside Rancabali                   0.0            1.0   \n",
       "Monumen Nasional                              1.0            0.0   \n",
       "Pasar Kebon Empring Bintaran                  0.0            0.0   \n",
       "Keraton Surabaya                              1.0            0.0   \n",
       "Sanghyang Heuleut                             0.0            0.0   \n",
       "Taman Vanda                                   0.0            1.0   \n",
       "Tebing Breksi                                 1.0            0.0   \n",
       "Obyek Wisata Goa Kreo                         0.0            0.0   \n",
       "Pantai Kesirat                                0.0            0.0   \n",
       "\n",
       "Place_Name                    Taman Air Mancur Menari Kenjeran  \\\n",
       "Place_Name                                                       \n",
       "Curug Cipanas                                              0.0   \n",
       "Glamping Lakeside Rancabali                                1.0   \n",
       "Monumen Nasional                                           0.0   \n",
       "Pasar Kebon Empring Bintaran                               0.0   \n",
       "Keraton Surabaya                                           0.0   \n",
       "Sanghyang Heuleut                                          0.0   \n",
       "Taman Vanda                                                1.0   \n",
       "Tebing Breksi                                              0.0   \n",
       "Obyek Wisata Goa Kreo                                      0.0   \n",
       "Pantai Kesirat                                             0.0   \n",
       "\n",
       "Place_Name                    Taman Flora Bratang Surabaya  \\\n",
       "Place_Name                                                   \n",
       "Curug Cipanas                                          0.0   \n",
       "Glamping Lakeside Rancabali                            1.0   \n",
       "Monumen Nasional                                       0.0   \n",
       "Pasar Kebon Empring Bintaran                           0.0   \n",
       "Keraton Surabaya                                       0.0   \n",
       "Sanghyang Heuleut                                      0.0   \n",
       "Taman Vanda                                            1.0   \n",
       "Tebing Breksi                                          0.0   \n",
       "Obyek Wisata Goa Kreo                                  0.0   \n",
       "Pantai Kesirat                                         0.0   \n",
       "\n",
       "Place_Name                    Gereja Perawan Maria Tak Berdosa Surabaya  \n",
       "Place_Name                                                               \n",
       "Curug Cipanas                                                       0.0  \n",
       "Glamping Lakeside Rancabali                                         0.0  \n",
       "Monumen Nasional                                                    0.0  \n",
       "Pasar Kebon Empring Bintaran                                        0.0  \n",
       "Keraton Surabaya                                                    0.0  \n",
       "Sanghyang Heuleut                                                   0.0  \n",
       "Taman Vanda                                                         0.0  \n",
       "Tebing Breksi                                                       0.0  \n",
       "Obyek Wisata Goa Kreo                                               0.0  \n",
       "Pantai Kesirat                                                      0.0  \n",
       "\n",
       "[10 rows x 437 columns]"
      ]
     },
     "execution_count": 20,
     "metadata": {},
     "output_type": "execute_result"
    }
   ],
   "source": [
    "cosine_sim_df = pd.DataFrame(\n",
    "    cosine_sim, index=places.Place_Name, columns=places.Place_Name)\n",
    "print('Shape:', cosine_sim_df.shape)\n",
    "\n",
    "cosine_sim_df.sample(10, axis=0)\n"
   ]
  },
  {
   "cell_type": "markdown",
   "metadata": {},
   "source": [
    "### 4.1.3. Recommendation Testing"
   ]
  },
  {
   "cell_type": "markdown",
   "metadata": {},
   "source": [
    "Melakukan pendefinisian fungsi place_recommendations untuk menampilkan hasil rekomendasi tempat berdasarkan kesamaan kategori dari sebuah tempat."
   ]
  },
  {
   "cell_type": "code",
   "execution_count": 21,
   "metadata": {},
   "outputs": [],
   "source": [
    "def place_recommendations(place_name, similarity_data=cosine_sim_df, items=places[['Place_Name', 'Category']], k=5):\n",
    "    index = similarity_data.loc[:,place_name].to_numpy().argpartition(range(-1, -k, -1))\n",
    "    closest = similarity_data.columns[index[-1:-(k+2):-1]]\n",
    "    closest = closest.drop(place_name, errors='ignore')\n",
    "    return pd.DataFrame(closest).merge(items).head(k)"
   ]
  },
  {
   "cell_type": "code",
   "execution_count": 22,
   "metadata": {},
   "outputs": [
    {
     "data": {
      "text/html": [
       "<div>\n",
       "<style scoped>\n",
       "    .dataframe tbody tr th:only-of-type {\n",
       "        vertical-align: middle;\n",
       "    }\n",
       "\n",
       "    .dataframe tbody tr th {\n",
       "        vertical-align: top;\n",
       "    }\n",
       "\n",
       "    .dataframe thead th {\n",
       "        text-align: right;\n",
       "    }\n",
       "</style>\n",
       "<table border=\"1\" class=\"dataframe\">\n",
       "  <thead>\n",
       "    <tr style=\"text-align: right;\">\n",
       "      <th></th>\n",
       "      <th>Place_Id</th>\n",
       "      <th>Place_Name</th>\n",
       "      <th>Category</th>\n",
       "    </tr>\n",
       "  </thead>\n",
       "  <tbody>\n",
       "    <tr>\n",
       "      <th>0</th>\n",
       "      <td>1</td>\n",
       "      <td>Monumen Nasional</td>\n",
       "      <td>Budaya</td>\n",
       "    </tr>\n",
       "  </tbody>\n",
       "</table>\n",
       "</div>"
      ],
      "text/plain": [
       "   Place_Id        Place_Name Category\n",
       "0         1  Monumen Nasional   Budaya"
      ]
     },
     "execution_count": 22,
     "metadata": {},
     "output_type": "execute_result"
    }
   ],
   "source": [
    "place_name = 'Monumen Nasional'\n",
    "places[places.Place_Name.eq(place_name)]\n"
   ]
  },
  {
   "cell_type": "code",
   "execution_count": 23,
   "metadata": {},
   "outputs": [
    {
     "data": {
      "text/html": [
       "<div>\n",
       "<style scoped>\n",
       "    .dataframe tbody tr th:only-of-type {\n",
       "        vertical-align: middle;\n",
       "    }\n",
       "\n",
       "    .dataframe tbody tr th {\n",
       "        vertical-align: top;\n",
       "    }\n",
       "\n",
       "    .dataframe thead th {\n",
       "        text-align: right;\n",
       "    }\n",
       "</style>\n",
       "<table border=\"1\" class=\"dataframe\">\n",
       "  <thead>\n",
       "    <tr style=\"text-align: right;\">\n",
       "      <th></th>\n",
       "      <th>Place_Name</th>\n",
       "      <th>Category</th>\n",
       "    </tr>\n",
       "  </thead>\n",
       "  <tbody>\n",
       "    <tr>\n",
       "      <th>0</th>\n",
       "      <td>Candi Sewu</td>\n",
       "      <td>Budaya</td>\n",
       "    </tr>\n",
       "    <tr>\n",
       "      <th>1</th>\n",
       "      <td>Museum Benteng Vredeburg Yogyakarta</td>\n",
       "      <td>Budaya</td>\n",
       "    </tr>\n",
       "    <tr>\n",
       "      <th>2</th>\n",
       "      <td>Museum Satria Mandala</td>\n",
       "      <td>Budaya</td>\n",
       "    </tr>\n",
       "    <tr>\n",
       "      <th>3</th>\n",
       "      <td>Kyotoku Floating Market</td>\n",
       "      <td>Budaya</td>\n",
       "    </tr>\n",
       "    <tr>\n",
       "      <th>4</th>\n",
       "      <td>Bandros City Tour</td>\n",
       "      <td>Budaya</td>\n",
       "    </tr>\n",
       "  </tbody>\n",
       "</table>\n",
       "</div>"
      ],
      "text/plain": [
       "                            Place_Name Category\n",
       "0                           Candi Sewu   Budaya\n",
       "1  Museum Benteng Vredeburg Yogyakarta   Budaya\n",
       "2                Museum Satria Mandala   Budaya\n",
       "3              Kyotoku Floating Market   Budaya\n",
       "4                    Bandros City Tour   Budaya"
      ]
     },
     "execution_count": 23,
     "metadata": {},
     "output_type": "execute_result"
    }
   ],
   "source": [
    "place_recommendations(place_name)"
   ]
  },
  {
   "cell_type": "markdown",
   "metadata": {},
   "source": [
    "Berdasarkan hasil rekomendasi di atas, dapat dilihat bahwa sistem yang dibuat berhasil memberikan rekomendasi tempat berdasarkan sebuah tempat, yaitu 'Monumen Nasional' dan dihasilkan rekomendasi tempat dengan kategori yang sama, yaitu budaya."
   ]
  },
  {
   "cell_type": "markdown",
   "metadata": {},
   "source": [
    "## 4.2. Model Development dengan Collaborative Filtering"
   ]
  },
  {
   "cell_type": "markdown",
   "metadata": {},
   "source": [
    "Collaborative Filtering adalah teknik merekomendasikan item yang mirip dengan preferensi pengguna yang sama di masa lalu, misalnya berdasarkan penilaian tempat yang telah diberikan oleh seorang pengguna. Sistem akan merekomendasikan tempat berdasarkan riwayat penilaian pengguna tersebut terhadap tempat dan kategorinya."
   ]
  },
  {
   "cell_type": "markdown",
   "metadata": {},
   "source": [
    "### 4.2.1. Data Preparation"
   ]
  },
  {
   "cell_type": "code",
   "execution_count": 24,
   "metadata": {},
   "outputs": [],
   "source": [
    "import pandas as pd\n",
    "import numpy as np\n",
    "from zipfile import ZipFile\n",
    "import tensorflow as tf\n",
    "from tensorflow import keras\n",
    "from tensorflow.keras import layers\n",
    "from pathlib import Path\n",
    "import matplotlib.pyplot as plt\n"
   ]
  },
  {
   "cell_type": "markdown",
   "metadata": {},
   "source": [
    "Proses encoding fitur User_Id pada dataset ratings menjadi array."
   ]
  },
  {
   "cell_type": "code",
   "execution_count": 25,
   "metadata": {},
   "outputs": [
    {
     "name": "stdout",
     "output_type": "stream",
     "text": [
      "list User_Id:  [1, 2, 3, 4, 5, 6, 7, 8, 9, 10, 11, 12, 13, 14, 15, 16, 17, 18, 19, 20, 21, 22, 23, 24, 25, 26, 27, 28, 29, 30, 31, 32, 33, 34, 35, 36, 37, 38, 39, 40, 41, 42, 43, 44, 45, 46, 47, 48, 49, 50, 51, 52, 53, 54, 55, 56, 57, 58, 59, 60, 61, 62, 63, 64, 65, 66, 67, 68, 69, 70, 71, 72, 73, 74, 75, 76, 77, 78, 79, 80, 81, 82, 83, 84, 85, 86, 87, 88, 89, 90, 91, 92, 93, 94, 95, 96, 97, 98, 99, 100, 101, 102, 103, 104, 105, 106, 107, 108, 109, 110, 111, 112, 113, 114, 115, 116, 117, 118, 119, 120, 121, 122, 123, 124, 125, 126, 127, 128, 129, 130, 131, 132, 133, 134, 135, 136, 137, 138, 139, 140, 141, 142, 143, 144, 145, 146, 147, 148, 149, 150, 151, 152, 153, 154, 155, 156, 157, 158, 159, 160, 161, 162, 163, 164, 165, 166, 167, 168, 169, 170, 171, 172, 173, 174, 175, 176, 177, 178, 179, 180, 181, 182, 183, 184, 185, 186, 187, 188, 189, 190, 191, 192, 193, 194, 195, 196, 197, 198, 199, 200, 201, 202, 203, 204, 205, 206, 207, 208, 209, 210, 211, 212, 213, 214, 215, 216, 217, 218, 219, 220, 221, 222, 223, 224, 225, 226, 227, 228, 229, 230, 231, 232, 233, 234, 235, 236, 237, 238, 239, 240, 241, 242, 243, 244, 245, 246, 247, 248, 249, 250, 251, 252, 253, 254, 255, 256, 257, 258, 259, 260, 261, 262, 263, 264, 265, 266, 267, 268, 269, 270, 271, 272, 273, 274, 275, 276, 277, 278, 279, 280, 281, 282, 283, 284, 285, 286, 287, 288, 289, 290, 291, 292, 293, 294, 295, 296, 297, 298, 299, 300]\n",
      "encoded User_Id :  {1: 0, 2: 1, 3: 2, 4: 3, 5: 4, 6: 5, 7: 6, 8: 7, 9: 8, 10: 9, 11: 10, 12: 11, 13: 12, 14: 13, 15: 14, 16: 15, 17: 16, 18: 17, 19: 18, 20: 19, 21: 20, 22: 21, 23: 22, 24: 23, 25: 24, 26: 25, 27: 26, 28: 27, 29: 28, 30: 29, 31: 30, 32: 31, 33: 32, 34: 33, 35: 34, 36: 35, 37: 36, 38: 37, 39: 38, 40: 39, 41: 40, 42: 41, 43: 42, 44: 43, 45: 44, 46: 45, 47: 46, 48: 47, 49: 48, 50: 49, 51: 50, 52: 51, 53: 52, 54: 53, 55: 54, 56: 55, 57: 56, 58: 57, 59: 58, 60: 59, 61: 60, 62: 61, 63: 62, 64: 63, 65: 64, 66: 65, 67: 66, 68: 67, 69: 68, 70: 69, 71: 70, 72: 71, 73: 72, 74: 73, 75: 74, 76: 75, 77: 76, 78: 77, 79: 78, 80: 79, 81: 80, 82: 81, 83: 82, 84: 83, 85: 84, 86: 85, 87: 86, 88: 87, 89: 88, 90: 89, 91: 90, 92: 91, 93: 92, 94: 93, 95: 94, 96: 95, 97: 96, 98: 97, 99: 98, 100: 99, 101: 100, 102: 101, 103: 102, 104: 103, 105: 104, 106: 105, 107: 106, 108: 107, 109: 108, 110: 109, 111: 110, 112: 111, 113: 112, 114: 113, 115: 114, 116: 115, 117: 116, 118: 117, 119: 118, 120: 119, 121: 120, 122: 121, 123: 122, 124: 123, 125: 124, 126: 125, 127: 126, 128: 127, 129: 128, 130: 129, 131: 130, 132: 131, 133: 132, 134: 133, 135: 134, 136: 135, 137: 136, 138: 137, 139: 138, 140: 139, 141: 140, 142: 141, 143: 142, 144: 143, 145: 144, 146: 145, 147: 146, 148: 147, 149: 148, 150: 149, 151: 150, 152: 151, 153: 152, 154: 153, 155: 154, 156: 155, 157: 156, 158: 157, 159: 158, 160: 159, 161: 160, 162: 161, 163: 162, 164: 163, 165: 164, 166: 165, 167: 166, 168: 167, 169: 168, 170: 169, 171: 170, 172: 171, 173: 172, 174: 173, 175: 174, 176: 175, 177: 176, 178: 177, 179: 178, 180: 179, 181: 180, 182: 181, 183: 182, 184: 183, 185: 184, 186: 185, 187: 186, 188: 187, 189: 188, 190: 189, 191: 190, 192: 191, 193: 192, 194: 193, 195: 194, 196: 195, 197: 196, 198: 197, 199: 198, 200: 199, 201: 200, 202: 201, 203: 202, 204: 203, 205: 204, 206: 205, 207: 206, 208: 207, 209: 208, 210: 209, 211: 210, 212: 211, 213: 212, 214: 213, 215: 214, 216: 215, 217: 216, 218: 217, 219: 218, 220: 219, 221: 220, 222: 221, 223: 222, 224: 223, 225: 224, 226: 225, 227: 226, 228: 227, 229: 228, 230: 229, 231: 230, 232: 231, 233: 232, 234: 233, 235: 234, 236: 235, 237: 236, 238: 237, 239: 238, 240: 239, 241: 240, 242: 241, 243: 242, 244: 243, 245: 244, 246: 245, 247: 246, 248: 247, 249: 248, 250: 249, 251: 250, 252: 251, 253: 252, 254: 253, 255: 254, 256: 255, 257: 256, 258: 257, 259: 258, 260: 259, 261: 260, 262: 261, 263: 262, 264: 263, 265: 264, 266: 265, 267: 266, 268: 267, 269: 268, 270: 269, 271: 270, 272: 271, 273: 272, 274: 273, 275: 274, 276: 275, 277: 276, 278: 277, 279: 278, 280: 279, 281: 280, 282: 281, 283: 282, 284: 283, 285: 284, 286: 285, 287: 286, 288: 287, 289: 288, 290: 289, 291: 290, 292: 291, 293: 292, 294: 293, 295: 294, 296: 295, 297: 296, 298: 297, 299: 298, 300: 299}\n",
      "encoded angka ke User_Id:  {0: 1, 1: 2, 2: 3, 3: 4, 4: 5, 5: 6, 6: 7, 7: 8, 8: 9, 9: 10, 10: 11, 11: 12, 12: 13, 13: 14, 14: 15, 15: 16, 16: 17, 17: 18, 18: 19, 19: 20, 20: 21, 21: 22, 22: 23, 23: 24, 24: 25, 25: 26, 26: 27, 27: 28, 28: 29, 29: 30, 30: 31, 31: 32, 32: 33, 33: 34, 34: 35, 35: 36, 36: 37, 37: 38, 38: 39, 39: 40, 40: 41, 41: 42, 42: 43, 43: 44, 44: 45, 45: 46, 46: 47, 47: 48, 48: 49, 49: 50, 50: 51, 51: 52, 52: 53, 53: 54, 54: 55, 55: 56, 56: 57, 57: 58, 58: 59, 59: 60, 60: 61, 61: 62, 62: 63, 63: 64, 64: 65, 65: 66, 66: 67, 67: 68, 68: 69, 69: 70, 70: 71, 71: 72, 72: 73, 73: 74, 74: 75, 75: 76, 76: 77, 77: 78, 78: 79, 79: 80, 80: 81, 81: 82, 82: 83, 83: 84, 84: 85, 85: 86, 86: 87, 87: 88, 88: 89, 89: 90, 90: 91, 91: 92, 92: 93, 93: 94, 94: 95, 95: 96, 96: 97, 97: 98, 98: 99, 99: 100, 100: 101, 101: 102, 102: 103, 103: 104, 104: 105, 105: 106, 106: 107, 107: 108, 108: 109, 109: 110, 110: 111, 111: 112, 112: 113, 113: 114, 114: 115, 115: 116, 116: 117, 117: 118, 118: 119, 119: 120, 120: 121, 121: 122, 122: 123, 123: 124, 124: 125, 125: 126, 126: 127, 127: 128, 128: 129, 129: 130, 130: 131, 131: 132, 132: 133, 133: 134, 134: 135, 135: 136, 136: 137, 137: 138, 138: 139, 139: 140, 140: 141, 141: 142, 142: 143, 143: 144, 144: 145, 145: 146, 146: 147, 147: 148, 148: 149, 149: 150, 150: 151, 151: 152, 152: 153, 153: 154, 154: 155, 155: 156, 156: 157, 157: 158, 158: 159, 159: 160, 160: 161, 161: 162, 162: 163, 163: 164, 164: 165, 165: 166, 166: 167, 167: 168, 168: 169, 169: 170, 170: 171, 171: 172, 172: 173, 173: 174, 174: 175, 175: 176, 176: 177, 177: 178, 178: 179, 179: 180, 180: 181, 181: 182, 182: 183, 183: 184, 184: 185, 185: 186, 186: 187, 187: 188, 188: 189, 189: 190, 190: 191, 191: 192, 192: 193, 193: 194, 194: 195, 195: 196, 196: 197, 197: 198, 198: 199, 199: 200, 200: 201, 201: 202, 202: 203, 203: 204, 204: 205, 205: 206, 206: 207, 207: 208, 208: 209, 209: 210, 210: 211, 211: 212, 212: 213, 213: 214, 214: 215, 215: 216, 216: 217, 217: 218, 218: 219, 219: 220, 220: 221, 221: 222, 222: 223, 223: 224, 224: 225, 225: 226, 226: 227, 227: 228, 228: 229, 229: 230, 230: 231, 231: 232, 232: 233, 233: 234, 234: 235, 235: 236, 236: 237, 237: 238, 238: 239, 239: 240, 240: 241, 241: 242, 242: 243, 243: 244, 244: 245, 245: 246, 246: 247, 247: 248, 248: 249, 249: 250, 250: 251, 251: 252, 252: 253, 253: 254, 254: 255, 255: 256, 256: 257, 257: 258, 258: 259, 259: 260, 260: 261, 261: 262, 262: 263, 263: 264, 264: 265, 265: 266, 266: 267, 267: 268, 268: 269, 269: 270, 270: 271, 271: 272, 272: 273, 273: 274, 274: 275, 275: 276, 276: 277, 277: 278, 278: 279, 279: 280, 280: 281, 281: 282, 282: 283, 283: 284, 284: 285, 285: 286, 286: 287, 287: 288, 288: 289, 289: 290, 290: 291, 291: 292, 292: 293, 293: 294, 294: 295, 295: 296, 296: 297, 297: 298, 298: 299, 299: 300}\n"
     ]
    }
   ],
   "source": [
    "user_ids = ratings['User_Id'].unique().tolist()\n",
    "print('list User_Id: ', user_ids)\n",
    "\n",
    "user_to_user_encoded = {x: i for i, x in enumerate(user_ids)}\n",
    "print('encoded User_Id : ', user_to_user_encoded)\n",
    "\n",
    "user_encoded_to_user = {i: x for i, x in enumerate(user_ids)}\n",
    "print('encoded angka ke User_Id: ', user_encoded_to_user)\n"
   ]
  },
  {
   "cell_type": "markdown",
   "metadata": {},
   "source": [
    "Proses encoding fitur Place_Id pada dataset ratings menjadi array."
   ]
  },
  {
   "cell_type": "code",
   "execution_count": 26,
   "metadata": {},
   "outputs": [],
   "source": [
    "place_ids = ratings['Place_Id'].unique().tolist()\n",
    "place_to_place_encoded = {x: i for i, x in enumerate(place_ids)}\n",
    "place_encoded_to_place = {i: x for i, x in enumerate(place_ids)}"
   ]
  },
  {
   "cell_type": "markdown",
   "metadata": {},
   "source": [
    "Melakukan mapping atau pemetaan kolom user dan place ke dataset ratings yang berkaitan."
   ]
  },
  {
   "cell_type": "code",
   "execution_count": 27,
   "metadata": {},
   "outputs": [],
   "source": [
    "ratings['user'] = ratings['User_Id'].map(user_to_user_encoded)\n",
    "ratings['place'] = ratings['Place_Id'].map(place_to_place_encoded)\n"
   ]
  },
  {
   "cell_type": "markdown",
   "metadata": {},
   "source": [
    "Melakukan pengecekan jumlah user, jumlah tempat, penilaian minimal, dan penilaian maksimal."
   ]
  },
  {
   "cell_type": "code",
   "execution_count": 28,
   "metadata": {},
   "outputs": [
    {
     "name": "stdout",
     "output_type": "stream",
     "text": [
      "Users Count: 300\n",
      "Places Count: 437\n",
      "Min rating: 1.0\n",
      "Max rating: 5.0\n"
     ]
    }
   ],
   "source": [
    "users_count = len(user_to_user_encoded)\n",
    "place_count = len(place_encoded_to_place)\n",
    "\n",
    "ratings['rating'] = ratings['Place_Ratings'].values.astype(np.float32)\n",
    "\n",
    "min_rating = min(ratings['rating'])\n",
    "max_rating = max(ratings['rating'])\n",
    "\n",
    "print(f'Users Count: {users_count}')\n",
    "print(f'Places Count: {place_count}')\n",
    "print(f'Min rating: {min_rating}')\n",
    "print(f'Max rating: {max_rating}')\n"
   ]
  },
  {
   "cell_type": "markdown",
   "metadata": {},
   "source": [
    "### 4.2.2. Split Data Latih dan Data Validasi"
   ]
  },
  {
   "cell_type": "markdown",
   "metadata": {},
   "source": [
    "Mengacak dataset ratings."
   ]
  },
  {
   "cell_type": "code",
   "execution_count": 29,
   "metadata": {},
   "outputs": [
    {
     "data": {
      "text/html": [
       "<div>\n",
       "<style scoped>\n",
       "    .dataframe tbody tr th:only-of-type {\n",
       "        vertical-align: middle;\n",
       "    }\n",
       "\n",
       "    .dataframe tbody tr th {\n",
       "        vertical-align: top;\n",
       "    }\n",
       "\n",
       "    .dataframe thead th {\n",
       "        text-align: right;\n",
       "    }\n",
       "</style>\n",
       "<table border=\"1\" class=\"dataframe\">\n",
       "  <thead>\n",
       "    <tr style=\"text-align: right;\">\n",
       "      <th></th>\n",
       "      <th>User_Id</th>\n",
       "      <th>Place_Id</th>\n",
       "      <th>Place_Ratings</th>\n",
       "      <th>user</th>\n",
       "      <th>place</th>\n",
       "      <th>rating</th>\n",
       "    </tr>\n",
       "  </thead>\n",
       "  <tbody>\n",
       "    <tr>\n",
       "      <th>5315</th>\n",
       "      <td>161</td>\n",
       "      <td>260</td>\n",
       "      <td>2</td>\n",
       "      <td>160</td>\n",
       "      <td>259</td>\n",
       "      <td>2.0</td>\n",
       "    </tr>\n",
       "    <tr>\n",
       "      <th>518</th>\n",
       "      <td>17</td>\n",
       "      <td>262</td>\n",
       "      <td>2</td>\n",
       "      <td>16</td>\n",
       "      <td>54</td>\n",
       "      <td>2.0</td>\n",
       "    </tr>\n",
       "    <tr>\n",
       "      <th>4362</th>\n",
       "      <td>133</td>\n",
       "      <td>191</td>\n",
       "      <td>5</td>\n",
       "      <td>132</td>\n",
       "      <td>240</td>\n",
       "      <td>5.0</td>\n",
       "    </tr>\n",
       "    <tr>\n",
       "      <th>8447</th>\n",
       "      <td>255</td>\n",
       "      <td>156</td>\n",
       "      <td>1</td>\n",
       "      <td>254</td>\n",
       "      <td>241</td>\n",
       "      <td>1.0</td>\n",
       "    </tr>\n",
       "    <tr>\n",
       "      <th>9105</th>\n",
       "      <td>274</td>\n",
       "      <td>78</td>\n",
       "      <td>3</td>\n",
       "      <td>273</td>\n",
       "      <td>35</td>\n",
       "      <td>3.0</td>\n",
       "    </tr>\n",
       "    <tr>\n",
       "      <th>...</th>\n",
       "      <td>...</td>\n",
       "      <td>...</td>\n",
       "      <td>...</td>\n",
       "      <td>...</td>\n",
       "      <td>...</td>\n",
       "      <td>...</td>\n",
       "    </tr>\n",
       "    <tr>\n",
       "      <th>5782</th>\n",
       "      <td>174</td>\n",
       "      <td>296</td>\n",
       "      <td>3</td>\n",
       "      <td>173</td>\n",
       "      <td>154</td>\n",
       "      <td>3.0</td>\n",
       "    </tr>\n",
       "    <tr>\n",
       "      <th>5237</th>\n",
       "      <td>159</td>\n",
       "      <td>69</td>\n",
       "      <td>4</td>\n",
       "      <td>158</td>\n",
       "      <td>406</td>\n",
       "      <td>4.0</td>\n",
       "    </tr>\n",
       "    <tr>\n",
       "      <th>5437</th>\n",
       "      <td>164</td>\n",
       "      <td>24</td>\n",
       "      <td>5</td>\n",
       "      <td>163</td>\n",
       "      <td>74</td>\n",
       "      <td>5.0</td>\n",
       "    </tr>\n",
       "    <tr>\n",
       "      <th>871</th>\n",
       "      <td>28</td>\n",
       "      <td>131</td>\n",
       "      <td>5</td>\n",
       "      <td>27</td>\n",
       "      <td>70</td>\n",
       "      <td>5.0</td>\n",
       "    </tr>\n",
       "    <tr>\n",
       "      <th>7329</th>\n",
       "      <td>221</td>\n",
       "      <td>118</td>\n",
       "      <td>3</td>\n",
       "      <td>220</td>\n",
       "      <td>63</td>\n",
       "      <td>3.0</td>\n",
       "    </tr>\n",
       "  </tbody>\n",
       "</table>\n",
       "<p>9921 rows × 6 columns</p>\n",
       "</div>"
      ],
      "text/plain": [
       "      User_Id  Place_Id  Place_Ratings  user  place  rating\n",
       "5315      161       260              2   160    259     2.0\n",
       "518        17       262              2    16     54     2.0\n",
       "4362      133       191              5   132    240     5.0\n",
       "8447      255       156              1   254    241     1.0\n",
       "9105      274        78              3   273     35     3.0\n",
       "...       ...       ...            ...   ...    ...     ...\n",
       "5782      174       296              3   173    154     3.0\n",
       "5237      159        69              4   158    406     4.0\n",
       "5437      164        24              5   163     74     5.0\n",
       "871        28       131              5    27     70     5.0\n",
       "7329      221       118              3   220     63     3.0\n",
       "\n",
       "[9921 rows x 6 columns]"
      ]
     },
     "execution_count": 29,
     "metadata": {},
     "output_type": "execute_result"
    }
   ],
   "source": [
    "ratings = ratings.sample(frac=1, random_state=42)\n",
    "ratings\n"
   ]
  },
  {
   "cell_type": "markdown",
   "metadata": {},
   "source": [
    "Membagi dataset menjadi data latih (train) dan data uji (test), yaitu sebesar 20% data uji dan 80% data latih."
   ]
  },
  {
   "cell_type": "code",
   "execution_count": 30,
   "metadata": {},
   "outputs": [
    {
     "name": "stdout",
     "output_type": "stream",
     "text": [
      "[[160 259]\n",
      " [ 16  54]\n",
      " [132 240]\n",
      " ...\n",
      " [163  74]\n",
      " [ 27  70]\n",
      " [220  63]] [0.25 0.25 1.   ... 1.   1.   0.5 ]\n"
     ]
    }
   ],
   "source": [
    "x = ratings[['user', 'place']].values\n",
    "y = ratings['rating'].apply(lambda x: (\n",
    "    x - min_rating) / (max_rating - min_rating)).values\n",
    "\n",
    "train_indices = int(0.8 * ratings.shape[0])\n",
    "x_train, x_val, y_train, y_val = (\n",
    "    x[:train_indices],\n",
    "    x[train_indices:],\n",
    "    y[:train_indices],\n",
    "    y[train_indices:]\n",
    ")\n",
    "\n",
    "print(x, y)\n"
   ]
  },
  {
   "cell_type": "markdown",
   "metadata": {},
   "source": [
    "### 4.2.3. Model Development"
   ]
  },
  {
   "cell_type": "markdown",
   "metadata": {},
   "source": [
    "Melakukan pendefinisian kelas RecommenderNet untuk membangun model klasifikasi teks tersebut. Model ini akan memberikan rekomendasi kepada pengguna berdasarkan preferensi atau kecenderungan pengguna di masa lalu. Model ini dapat digunakan dalam berbagai bidang, seperti rekomendasi film, musik, produk, dan lain-lain. RecommenderNet menggunakan algoritma pembelajaran mesin seperti collaborative filtering atau content-based filtering untuk menentukan rekomendasi yang tepat untuk pengguna.\n",
    "\n",
    "Parameter yang digunakan dalam model ini adalah:\n",
    "- users_count: jumlah user yang akan jadi input dimension pada user embedding, tepatnya sebagai jumlah elemen dari vocabulary atau kata-kata yang digunakan dalam input data\n",
    "- place_count: jumlah tempat yang akan jadi input dimension pada tempat embedding, tepatnya sebagai jumlah elemen dari vocabulary atau kata-kata yang digunakan dalam input data\n",
    "- embedding_size: ukuran embedding akan jadi output dimension pada user embedding dan tempat embedding, yaitu jumlah fitur yang dihasilkan oleh Embedding layer, yang merupakan hasil pengurangan dimensi dari input data.\n",
    "\n",
    "Embedding layer ini akan mengubah representasi numerik dari input data menjadi representasi vektor yang lebih bermakna dan dapat dipahami oleh model machine learning."
   ]
  },
  {
   "cell_type": "code",
   "execution_count": 31,
   "metadata": {},
   "outputs": [],
   "source": [
    "class RecommenderNet(tf.keras.Model):\n",
    "  def __init__(self, users_count, place_count, embedding_size, **kwargs):\n",
    "    super(RecommenderNet, self).__init__(**kwargs)\n",
    "    self.users_count = users_count\n",
    "    self.place_count = place_count\n",
    "    self.embedding_size = embedding_size\n",
    "    self.user_embedding = layers.Embedding(\n",
    "        users_count,\n",
    "        embedding_size,\n",
    "        embeddings_initializer = 'he_normal',\n",
    "        embeddings_regularizer = keras.regularizers.l2(1e-8)\n",
    "    )\n",
    "    self.user_bias = layers.Embedding(users_count, 1)\n",
    "    self.place_embedding = layers.Embedding(\n",
    "        place_count,\n",
    "        embedding_size,\n",
    "        embeddings_initializer = 'he_normal',\n",
    "        embeddings_regularizer = keras.regularizers.l2(1e-8)\n",
    "    )\n",
    "    self.place_bias = layers.Embedding(place_count, 1)\n",
    "    \n",
    "  def call(self, inputs):\n",
    "    user_vector = self.user_embedding(inputs[:,0])\n",
    "    user_bias = self.user_bias(inputs[:, 0])\n",
    "    place_vector = self.place_embedding(inputs[:, 1])\n",
    "    place_bias = self.place_bias(inputs[:, 1])\n",
    "    \n",
    "    dot_user_place = tf.tensordot(user_vector, place_vector, 2) \n",
    "    \n",
    "    x = dot_user_place + user_bias + place_bias\n",
    "    \n",
    "    return tf.nn.sigmoid(x)"
   ]
  },
  {
   "cell_type": "markdown",
   "metadata": {},
   "source": [
    "Proses kompilasi atau compile dengan:\n",
    "- binary crossentropy loss function: loss function untuk menghitung loss pada model klasifikasi biner.\n",
    "- adam optimizer: algoritma optimisasi yang digunakan untuk mengupdate bobot pada model machine learning secara efisien.\n",
    "- metrik RMSE (Root Mean Square Error): metrik yang digunakan untuk mengukur seberapa jauh hasil prediksi dari model dari nilai aktual. RMSE dihitung dengan mencari rata-rata dari kuadrat error yang diakumulasikan dari seluruh data."
   ]
  },
  {
   "cell_type": "code",
   "execution_count": 32,
   "metadata": {},
   "outputs": [
    {
     "name": "stdout",
     "output_type": "stream",
     "text": [
      "Metal device set to: Apple M1\n",
      "\n",
      "systemMemory: 16.00 GB\n",
      "maxCacheSize: 5.33 GB\n",
      "\n"
     ]
    },
    {
     "name": "stderr",
     "output_type": "stream",
     "text": [
      "2022-12-29 17:53:55.026044: I tensorflow/core/common_runtime/pluggable_device/pluggable_device_factory.cc:306] Could not identify NUMA node of platform GPU ID 0, defaulting to 0. Your kernel may not have been built with NUMA support.\n",
      "2022-12-29 17:53:55.026338: I tensorflow/core/common_runtime/pluggable_device/pluggable_device_factory.cc:272] Created TensorFlow device (/job:localhost/replica:0/task:0/device:GPU:0 with 0 MB memory) -> physical PluggableDevice (device: 0, name: METAL, pci bus id: <undefined>)\n"
     ]
    }
   ],
   "source": [
    "model = RecommenderNet(users_count, place_count, 50)\n",
    "\n",
    "model.compile(\n",
    "    loss=tf.keras.losses.BinaryCrossentropy(),\n",
    "    optimizer=keras.optimizers.Adam(learning_rate=0.0001),\n",
    "    metrics=[tf.keras.metrics.RootMeanSquaredError()]\n",
    ")\n"
   ]
  },
  {
   "cell_type": "markdown",
   "metadata": {},
   "source": [
    "Menambahkan callback EarlyStopping yang akan menghentikan training jika tidak ada peningkatan selama 5 epochs."
   ]
  },
  {
   "cell_type": "code",
   "execution_count": 33,
   "metadata": {},
   "outputs": [],
   "source": [
    "from keras.callbacks import  EarlyStopping\n",
    "\n",
    "callbacks = EarlyStopping(\n",
    "    min_delta=0.0001,\n",
    "    patience=5,\n",
    "    restore_best_weights=True,\n",
    ")\n"
   ]
  },
  {
   "cell_type": "markdown",
   "metadata": {},
   "source": [
    "Melatih model."
   ]
  },
  {
   "cell_type": "code",
   "execution_count": 34,
   "metadata": {},
   "outputs": [
    {
     "name": "stdout",
     "output_type": "stream",
     "text": [
      "Epoch 1/100\n"
     ]
    },
    {
     "name": "stderr",
     "output_type": "stream",
     "text": [
      "2022-12-29 17:53:55.193091: W tensorflow/core/platform/profile_utils/cpu_utils.cc:128] Failed to get CPU frequency: 0 Hz\n",
      "2022-12-29 17:53:55.562700: I tensorflow/core/grappler/optimizers/custom_graph_optimizer_registry.cc:114] Plugin optimizer for device_type GPU is enabled.\n"
     ]
    },
    {
     "name": "stdout",
     "output_type": "stream",
     "text": [
      "988/992 [============================>.] - ETA: 0s - loss: 0.6941 - root_mean_squared_error: 0.3450"
     ]
    },
    {
     "name": "stderr",
     "output_type": "stream",
     "text": [
      "2022-12-29 17:54:07.385972: I tensorflow/core/grappler/optimizers/custom_graph_optimizer_registry.cc:114] Plugin optimizer for device_type GPU is enabled.\n"
     ]
    },
    {
     "name": "stdout",
     "output_type": "stream",
     "text": [
      "992/992 [==============================] - 15s 14ms/step - loss: 0.6941 - root_mean_squared_error: 0.3451 - val_loss: 0.6960 - val_root_mean_squared_error: 0.3513\n",
      "Epoch 2/100\n",
      "992/992 [==============================] - 14s 15ms/step - loss: 0.6925 - root_mean_squared_error: 0.3439 - val_loss: 0.6959 - val_root_mean_squared_error: 0.3513\n",
      "Epoch 3/100\n",
      "992/992 [==============================] - 16s 16ms/step - loss: 0.6914 - root_mean_squared_error: 0.3431 - val_loss: 0.6958 - val_root_mean_squared_error: 0.3512\n",
      "Epoch 4/100\n",
      "992/992 [==============================] - 18s 18ms/step - loss: 0.6913 - root_mean_squared_error: 0.3430 - val_loss: 0.6958 - val_root_mean_squared_error: 0.3512\n",
      "Epoch 5/100\n",
      "992/992 [==============================] - 15s 15ms/step - loss: 0.6905 - root_mean_squared_error: 0.3425 - val_loss: 0.6957 - val_root_mean_squared_error: 0.3512\n",
      "Epoch 6/100\n",
      "992/992 [==============================] - 14s 14ms/step - loss: 0.6889 - root_mean_squared_error: 0.3413 - val_loss: 0.6957 - val_root_mean_squared_error: 0.3512\n",
      "Epoch 7/100\n",
      "992/992 [==============================] - 15s 15ms/step - loss: 0.6891 - root_mean_squared_error: 0.3415 - val_loss: 0.6957 - val_root_mean_squared_error: 0.3512\n",
      "Epoch 8/100\n",
      "992/992 [==============================] - 16s 16ms/step - loss: 0.6867 - root_mean_squared_error: 0.3397 - val_loss: 0.6957 - val_root_mean_squared_error: 0.3512\n",
      "Epoch 9/100\n",
      "992/992 [==============================] - 17s 17ms/step - loss: 0.6863 - root_mean_squared_error: 0.3394 - val_loss: 0.6957 - val_root_mean_squared_error: 0.3512\n",
      "Epoch 10/100\n",
      "992/992 [==============================] - 15s 16ms/step - loss: 0.6849 - root_mean_squared_error: 0.3384 - val_loss: 0.6958 - val_root_mean_squared_error: 0.3512\n"
     ]
    }
   ],
   "source": [
    "history = model.fit(\n",
    "    x=x_train,\n",
    "    y=y_train,\n",
    "    batch_size=8,\n",
    "    epochs=100,\n",
    "    validation_data=(x_val, y_val),\n",
    "    callbacks=[callbacks]\n",
    ")\n"
   ]
  },
  {
   "cell_type": "markdown",
   "metadata": {},
   "source": [
    "Visualisasi grafik data training dan testing untuk masing-masing metrik Root Mean Square Error dan loss function."
   ]
  },
  {
   "cell_type": "code",
   "execution_count": 35,
   "metadata": {},
   "outputs": [
    {
     "data": {
      "image/png": "[encoded data removed]",
      "text/plain": [
       "<Figure size 640x480 with 1 Axes>"
      ]
     },
     "metadata": {},
     "output_type": "display_data"
    }
   ],
   "source": [
    "plt.plot(history.history['root_mean_squared_error'])\n",
    "plt.plot(history.history['val_root_mean_squared_error'])\n",
    "plt.title('model error')\n",
    "plt.ylabel('root_mean_squared_error')\n",
    "plt.xlabel('epoch')\n",
    "plt.legend(['train', 'test'], loc='upper left')\n",
    "plt.show()\n"
   ]
  },
  {
   "cell_type": "code",
   "execution_count": 36,
   "metadata": {},
   "outputs": [
    {
     "data": {
      "image/png": "[encoded data removed]",
      "text/plain": [
       "<Figure size 640x480 with 1 Axes>"
      ]
     },
     "metadata": {},
     "output_type": "display_data"
    }
   ],
   "source": [
    "plt.plot(history.history['loss'])\n",
    "plt.plot(history.history['val_loss'])\n",
    "plt.title('model loss')\n",
    "plt.ylabel('loss')\n",
    "plt.xlabel('epoch')\n",
    "plt.legend(['train', 'test'], loc='upper left')\n",
    "plt.show()\n"
   ]
  },
  {
   "cell_type": "markdown",
   "metadata": {},
   "source": [
    "### 4.2.4. Tes Rekomendasi"
   ]
  },
  {
   "cell_type": "markdown",
   "metadata": {},
   "source": [
    "Melakukan uji coba atau tes rekomendasi tempat yang diberikan. Namun perlu dikertahui terlebih dahulu untuk variabel khusus orang yang belum pernah mengunjungi tempat tersebut (belum memberikan rating) dengan place_not_rated."
   ]
  },
  {
   "cell_type": "code",
   "execution_count": 37,
   "metadata": {},
   "outputs": [],
   "source": [
    "place_df = places\n",
    "ratings_df = ratings"
   ]
  },
  {
   "cell_type": "code",
   "execution_count": 38,
   "metadata": {},
   "outputs": [],
   "source": [
    "user_id = ratings_df.User_Id.sample(1).iloc[0]\n",
    "place_rated = ratings_df[ratings_df.User_Id == user_id]\n",
    "\n",
    "place_not_rated = place_df[~place_df['Place_Id'].isin(\n",
    "    place_rated.Place_Id.values)]['Place_Id']\n",
    "place_not_rated = list(\n",
    "    set(place_not_rated).intersection(set(place_to_place_encoded.keys()))\n",
    ")\n",
    "\n",
    "place_not_rated = [\n",
    "    [place_to_place_encoded.get(x)] for x in place_not_rated]\n",
    "user_encoder = user_to_user_encoded.get(user_id)\n",
    "user_place_array = np.hstack(\n",
    "    ([[user_encoder]] * len(place_not_rated), place_not_rated)\n",
    ")\n"
   ]
  },
  {
   "cell_type": "markdown",
   "metadata": {},
   "source": [
    "Melakukan pengujian prediksi hasil rekomendasi tempat berdasarkan nama tempat dan kategori."
   ]
  },
  {
   "cell_type": "code",
   "execution_count": 39,
   "metadata": {},
   "outputs": [
    {
     "name": "stdout",
     "output_type": "stream",
     "text": [
      "13/13 [==============================] - 0s 8ms/step\n",
      "Showing recommendations for users: 57\n",
      "========================================\n",
      "Place with high ratings from user\n",
      "----------------------------------------\n",
      "Kota Tua: Budaya\n",
      "Galeri Nasional Indonesia: Budaya\n",
      "Goa Jomblang: Cagar Alam\n",
      "NuArt Sculpture Park: Taman Hiburan\n",
      "Masjid Daarut Tauhiid Bandung: Tempat Ibadah\n",
      "----------------------------------------\n",
      "Top 10 place recommendation\n",
      "----------------------------------------\n",
      "Desa Wisata Kelor: Taman Hiburan\n",
      "Pantai Patihan: Bahari\n",
      "Pantai Ngrawe (Mesra): Bahari\n",
      "Pantai Pulang Sawal: Bahari\n",
      "Pasar Kebon Empring Bintaran: Pusat Perbelanjaan\n",
      "Geoforest Watu Payung Turunan: Cagar Alam\n",
      "Puncak Segoro: Cagar Alam\n",
      "Candi Ijo: Budaya\n",
      "Pantai Indrayanti: Bahari\n",
      "Pantai Nglambor: Bahari\n"
     ]
    },
    {
     "name": "stderr",
     "output_type": "stream",
     "text": [
      "2022-12-29 17:56:31.157802: I tensorflow/core/grappler/optimizers/custom_graph_optimizer_registry.cc:114] Plugin optimizer for device_type GPU is enabled.\n"
     ]
    }
   ],
   "source": [
    "ratings = model.predict(user_place_array).flatten()\n",
    "\n",
    "top_ratings_indices = ratings.argsort()[-10:][::-1]\n",
    "recommended_place_ids = [\n",
    "    place_encoded_to_place.get(place_not_rated[x][0]) for x in top_ratings_indices\n",
    "]\n",
    "\n",
    "print('Showing recommendations for users: {}'.format(user_id))\n",
    "print('=====' * 8)\n",
    "print('Place with high ratings from user')\n",
    "print('-----' * 8)\n",
    "\n",
    "top_place_user = (\n",
    "    place_rated.sort_values(\n",
    "        by = 'rating',\n",
    "        ascending=False\n",
    "    )\n",
    "    .head(5)\n",
    "    .Place_Id.values\n",
    ")\n",
    "\n",
    "place_df_rows = place_df[place_df['Place_Id'].isin(top_place_user)]\n",
    "for row in place_df_rows.itertuples():\n",
    "    print(row.Place_Name + ':', row.Category)\n",
    "\n",
    "print('-----' * 8)\n",
    "print('Top 10 place recommendation')\n",
    "print('-----' * 8)\n",
    "\n",
    "recommended_place = place_df[place_df['Place_Id'].isin(recommended_place_ids)]\n",
    "for row in recommended_place.itertuples():\n",
    "    print(row.Place_Name + ':', row.Category)\n"
   ]
  },
  {
   "cell_type": "markdown",
   "metadata": {},
   "source": [
    "Berdasarkan hasil rekomendasi tempat di atas, dapat dilihat bahwa sistem rekomendasi mengambil pengguna acak (14), lalu dilakukan pencarian tempat dengan rating terbaik dari user tersebut.\n",
    "\n",
    "- Margasatwa Muara Angke: **Cagar Alam**\n",
    "- Situs Warungboto: **Taman Hiburan**\n",
    "- Stone Garden Citatah: **Taman Hiburan**\n",
    "- Gua Pawon: **Cagar Alam**\n",
    "- Semarang Chinatown: **Budaya**\n",
    "\n",
    "Selanjutnya, sistem akan menampilkan 10 daftar tempat yang direkomendasikan berdasarkan kategori yang dimiliki terhadap data pengguna acak tadi. Dapat dilihat bahwa sistem merekomendasikan beberapa tempat dengan kategori yang sama, seperti\n",
    "\n",
    "- Pantai Goa Cemara: **Bahari**\n",
    "- Desa Wisata Kelor: **Taman Hiburan**\n",
    "- Pantai Kukup: **Bahari**\n",
    "- Pantai Pok Tunggal: **Bahari**\n",
    "- Balai Kota Surabaya: **Budaya**"
   ]
  },
  {
   "cell_type": "markdown",
   "metadata": {},
   "source": [
    "# **5. Kesimpulan**"
   ]
  },
  {
   "cell_type": "markdown",
   "metadata": {},
   "source": [
    "Dengan begitu, dapat disimpulkan bahwa sistem berhasil melakukan rekomendasi baik dengan pendekatan _content-based filtering_ maupun _collaborative filtering_. _Collaborative filtering_ membutuhkan data penilaian tempat dari pengguna, sedangkan pada _content-based filtering_, data rating tidak dibutuhkan karena sistem akan merekomendasikan berdasarkan konten tempat tersebut, yaitu kategori."
   ]
  },
  {
   "cell_type": "code",
   "execution_count": null,
   "metadata": {},
   "outputs": [],
   "source": []
  }
 ],
 "metadata": {
  "kernelspec": {
   "display_name": "Python 3.9.13 ('base')",
   "language": "python",
   "name": "python3"
  },
  "language_info": {
   "codemirror_mode": {
    "name": "ipython",
    "version": 3
   },
   "file_extension": ".py",
   "mimetype": "text/x-python",
   "name": "python",
   "nbconvert_exporter": "python",
   "pygments_lexer": "ipython3",
   "version": "3.9.13 | packaged by conda-forge | (main, May 27 2022, 17:00:33) \n[Clang 13.0.1 ]"
  },
  "orig_nbformat": 4,
  "vscode": {
   "interpreter": {
    "hash": "f97dd669f666c147bbaeb46e57e2f991c18a51a60118e55cd25d659cec31d576"
   }
  }
 },
 "nbformat": 4,
 "nbformat_minor": 2
}
